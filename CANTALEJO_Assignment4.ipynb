{
  "nbformat": 4,
  "nbformat_minor": 0,
  "metadata": {
    "kernelspec": {
      "display_name": "Python 3",
      "language": "python",
      "name": "python3"
    },
    "language_info": {
      "codemirror_mode": {
        "name": "ipython",
        "version": 3
      },
      "file_extension": ".py",
      "mimetype": "text/x-python",
      "name": "python",
      "nbconvert_exporter": "python",
      "pygments_lexer": "ipython3",
      "version": "3.8.3"
    },
    "colab": {
      "name": "CANTALEJO Assignment4.ipynb",
      "provenance": [],
      "collapsed_sections": [],
      "include_colab_link": true
    }
  },
  "cells": [
    {
      "cell_type": "markdown",
      "metadata": {
        "id": "view-in-github",
        "colab_type": "text"
      },
      "source": [
        "<a href=\"https://colab.research.google.com/github/frncncantalejo/LinearAlgebra_2ndsem/blob/main/CANTALEJO_Assignment4.ipynb\" target=\"_parent\"><img src=\"https://colab.research.google.com/assets/colab-badge.svg\" alt=\"Open In Colab\"/></a>"
      ]
    },
    {
      "cell_type": "markdown",
      "metadata": {
        "id": "oIhcJPw4Ifq7"
      },
      "source": [
        "# Linear Algebra for ChE\n",
        "## Laboratory 4 : Matrices"
      ]
    },
    {
      "cell_type": "markdown",
      "metadata": {
        "id": "z3yQzzctIfrD"
      },
      "source": [
        "### Objectives\n",
        "At the end of this activity you will be able to:\n",
        "1. Be familiar with matrices and their relation to linear equations.\n",
        "2. Perform basic matrix operations.\n",
        "3. Program and translate matrix equations and operations using Python."
      ]
    },
    {
      "cell_type": "markdown",
      "metadata": {
        "id": "xfXvXLl-IfrE"
      },
      "source": [
        "# Discussion"
      ]
    },
    {
      "cell_type": "code",
      "metadata": {
        "id": "2pbwsjOgIfrF"
      },
      "source": [
        "import numpy as np\n",
        "import matplotlib.pyplot as plt\n",
        "import scipy.linalg as la\n",
        "%matplotlib inline"
      ],
      "execution_count": null,
      "outputs": []
    },
    {
      "cell_type": "markdown",
      "metadata": {
        "id": "OoHJrqIuIfrG"
      },
      "source": [
        "### Matrices"
      ]
    },
    {
      "cell_type": "markdown",
      "metadata": {
        "id": "rmoXv48oIfrG"
      },
      "source": [
        "Rows and columns of data make up a Python matrix, which is a customized two-dimensional rectangular array. Mathematical phrases and symbols can also be included in a matrix. Mathematical and scientific computations can benefit greatly from the use of matrix data structures."
      ]
    },
    {
      "cell_type": "markdown",
      "metadata": {
        "id": "vMNHzYdvIfrG"
      },
      "source": [
        "Let's say for example you have $A$ and $B$ as system of equation."
      ]
    },
    {
      "cell_type": "markdown",
      "metadata": {
        "id": "UGBWeAoeIfrH"
      },
      "source": [
        "$$\n",
        "A = \\left\\{\n",
        "    \\begin{array}\\\n",
        "        x + y \\\\ \n",
        "        6x - 15y\n",
        "    \\end{array}\n",
        "\\right. \\\\\n",
        "B = \\left\\{\n",
        "    \\begin{array}\\\n",
        "        5x+2y+8z \\\\ \n",
        "        4x -8y -2z \\\\\n",
        "        -9x + 2y +6z\n",
        "    \\end{array}\n",
        "\\right. \\\\\n",
        "C = \\left\\{\n",
        "    \\begin{array}\\\n",
        "        w-5x+6y-z \\\\ \n",
        "        9w- 5x -3y +z \\\\\n",
        "        6w -3x + 7y - 4z\n",
        "    \\end{array}\n",
        "\\right. $$"
      ]
    },
    {
      "cell_type": "markdown",
      "metadata": {
        "id": "dHxKG8C6IfrH"
      },
      "source": [
        "We could see that $A$ is a system of 2 equations with 2 parameters. While $B$ is a system of 3 equations with 3 parameters. We can represent them as matrices as:"
      ]
    },
    {
      "cell_type": "markdown",
      "metadata": {
        "id": "kA8oyF0GIfrI"
      },
      "source": [
        ":$$\n",
        "A=\\begin{bmatrix} 2 & 5 \\\\ 4 & {-10}\\end{bmatrix} \\\\\n",
        "B=\\begin{bmatrix} 5 & 3 & 6 \\\\ 2 & -6 & -4 \\\\ -4 & 4 & 1\\end{bmatrix}\\\\\n",
        "C=\\begin{bmatrix} 1 & -2 & 3 & -4 \\\\ 4 & -7 & -1 & 9 \\\\ 2 & -4 & 2 & -1\\end{bmatrix}\n",
        "$$"
      ]
    },
    {
      "cell_type": "markdown",
      "metadata": {
        "id": "fKS9O9p6IfrI"
      },
      "source": [
        "### Declaring Matrices"
      ]
    },
    {
      "cell_type": "markdown",
      "metadata": {
        "id": "7_nn4LJyIfrJ"
      },
      "source": [
        "Just like our previous laboratory activity, we'll represent system of linear equations as a matrix. The entities or numbers in matrices are called the elements of a matrix. These elements are arranged and ordered in rows and columns which form the list/array-like structure of matrices. And just like arrays, these elements are indexed according to their position with respect to their rows and columns. This can be represented just like the equation below. Whereas $A$ is a matrix consisting of elements denoted by $a_{i,j}$. Denoted by $i$ is the number of rows in the matrix while $j$ stands for the number of columns.<br>\n",
        "**bold text**Do note that the $size$ of a matrix is $i\\times j$."
      ]
    },
    {
      "cell_type": "markdown",
      "metadata": {
        "id": "dk6N1g_OIfrJ"
      },
      "source": [
        "$$A=\\begin{bmatrix}\n",
        "a_{(0,0)}&a_{(0,1)}&\\dots&a_{(0,j-1)}\\\\\n",
        "a_{(1,0)}&a_{(1,1)}&\\dots&a_{(1,j-1)}\\\\\n",
        "\\vdots&\\vdots&\\ddots&\\vdots&\\\\\n",
        "a_{(i-1,0)}&a_{(i-1,1)}&\\dots&a_{(i-1,j-1)}\n",
        "\\end{bmatrix}\n",
        "$$"
      ]
    },
    {
      "cell_type": "markdown",
      "metadata": {
        "id": "hHWR-lfaIfrJ"
      },
      "source": [
        ""
      ]
    },
    {
      "cell_type": "code",
      "metadata": {
        "id": "2tH_3EyEIfrK"
      },
      "source": [
        "def describe_mat(matrix):\n",
        "  print(f'matrix:\\n{matrix}\\n\\nShape:\\t{matrix.shape}\\nRank:\\t{matrix.ndim}\\n')"
      ],
      "execution_count": null,
      "outputs": []
    },
    {
      "cell_type": "code",
      "metadata": {
        "id": "GtlANSbsIfrK",
        "outputId": "84f0e8bb-4cf6-432c-8dbd-3032ca6618cd",
        "colab": {
          "base_uri": "https://localhost:8080/"
        }
      },
      "source": [
        "A = np.array([\n",
        "    [4, 8],\n",
        "    [2, 0]\n",
        "])\n",
        "describe_mat(A)"
      ],
      "execution_count": null,
      "outputs": [
        {
          "output_type": "stream",
          "name": "stdout",
          "text": [
            "matrix:\n",
            "[[4 8]\n",
            " [2 0]]\n",
            "\n",
            "Shape:\t(2, 2)\n",
            "Rank:\t2\n",
            "\n"
          ]
        }
      ]
    },
    {
      "cell_type": "code",
      "metadata": {
        "id": "d25x10ZgIfrL",
        "outputId": "944fb3a2-5340-456c-a58a-ab7315749a59",
        "colab": {
          "base_uri": "https://localhost:8080/"
        }
      },
      "source": [
        "G = np.array([\n",
        "    [4,1,9],\n",
        "    [6,2,8]\n",
        "])\n",
        "describe_mat(G)"
      ],
      "execution_count": null,
      "outputs": [
        {
          "output_type": "stream",
          "name": "stdout",
          "text": [
            "matrix:\n",
            "[[4 1 9]\n",
            " [6 2 8]]\n",
            "\n",
            "Shape:\t(2, 3)\n",
            "Rank:\t2\n",
            "\n"
          ]
        }
      ]
    },
    {
      "cell_type": "code",
      "metadata": {
        "id": "SdPbu_jlIfrM",
        "outputId": "e69a221f-b903-4b4b-c1a8-067245e8ce69",
        "colab": {
          "base_uri": "https://localhost:8080/"
        }
      },
      "source": [
        "B = np.array([\n",
        "    [2, 9],\n",
        "    [3, 8],\n",
        "    [2, 1]\n",
        "])\n",
        "describe_mat(B)"
      ],
      "execution_count": null,
      "outputs": [
        {
          "output_type": "stream",
          "name": "stdout",
          "text": [
            "matrix:\n",
            "[[2 9]\n",
            " [3 8]\n",
            " [2 1]]\n",
            "\n",
            "Shape:\t(3, 2)\n",
            "Rank:\t2\n",
            "\n"
          ]
        }
      ]
    },
    {
      "cell_type": "code",
      "metadata": {
        "id": "sfLJuskKIfrM",
        "outputId": "cd411c7b-83cc-44fa-c468-94dcf76a5da2",
        "colab": {
          "base_uri": "https://localhost:8080/"
        }
      },
      "source": [
        "H = np.array([1,5,9,1])\n",
        "describe_mat(H)"
      ],
      "execution_count": null,
      "outputs": [
        {
          "output_type": "stream",
          "name": "stdout",
          "text": [
            "matrix:\n",
            "[1 5 9 1]\n",
            "\n",
            "Shape:\t(4,)\n",
            "Rank:\t1\n",
            "\n"
          ]
        }
      ]
    },
    {
      "cell_type": "markdown",
      "metadata": {
        "id": "Ay9_A1AnIfrN"
      },
      "source": [
        "## Categorizing Matrices"
      ]
    },
    {
      "cell_type": "markdown",
      "metadata": {
        "id": "qtSnxYlbIfrN"
      },
      "source": [
        "There are several ways of classifying matrices. Once could be according to their <b>shape</b> and another is according to their <b>element values</b>. We'll try to go through them.\n",
        "\n",
        "\n",
        "BABAGUHIN"
      ]
    },
    {
      "cell_type": "markdown",
      "metadata": {
        "id": "ijUKSsPyIfrN"
      },
      "source": [
        "### According to shape"
      ]
    },
    {
      "cell_type": "markdown",
      "metadata": {
        "id": "fA-Wrv8dIfrN"
      },
      "source": [
        "#### Row and Column Matrices"
      ]
    },
    {
      "cell_type": "markdown",
      "metadata": {
        "id": "FhH0IVzXIfrO"
      },
      "source": [
        "Row and column matrices are common in vector and matrix computations. They can also represent row and column spaces of a bigger vector space. Row and column matrices are represented by a single column or single row. So with that being, the shape of row matrices would be $1 \\times j$ and column matrices would be $i \\times 1$.\n",
        "\n",
        "BABAGUHIN"
      ]
    },
    {
      "cell_type": "code",
      "metadata": {
        "id": "jTlVpfeKIfrO",
        "outputId": "c7c8eed2-e2b5-49bd-b342-9cc97b3c80be",
        "colab": {
          "base_uri": "https://localhost:8080/"
        }
      },
      "source": [
        "\n",
        "rowmatrix1D = np.array([\n",
        "    1, 6, 5, -7\n",
        "])\n",
        "row_mat_2D = np.array([\n",
        "    [1,9,2, -4]\n",
        "])\n",
        "describe_mat(rowmatrix1D)\n",
        "describe_mat(row_mat_2D)"
      ],
      "execution_count": null,
      "outputs": [
        {
          "output_type": "stream",
          "name": "stdout",
          "text": [
            "matrix:\n",
            "[ 1  6  5 -7]\n",
            "\n",
            "Shape:\t(4,)\n",
            "Rank:\t1\n",
            "\n",
            "matrix:\n",
            "[[ 1  9  2 -4]]\n",
            "\n",
            "Shape:\t(1, 4)\n",
            "Rank:\t2\n",
            "\n"
          ]
        }
      ]
    },
    {
      "cell_type": "code",
      "metadata": {
        "id": "hA5AQp_GIfrO",
        "outputId": "44c61190-1234-4d9a-b5ea-c2756385bc70",
        "colab": {
          "base_uri": "https://localhost:8080/"
        }
      },
      "source": [
        "col_mat = np.array([\n",
        "    [10348727],\n",
        "    [4],\n",
        "    [9]\n",
        "]) \n",
        "describe_mat(col_mat)"
      ],
      "execution_count": null,
      "outputs": [
        {
          "output_type": "stream",
          "name": "stdout",
          "text": [
            "matrix:\n",
            "[[10348727]\n",
            " [       4]\n",
            " [       9]]\n",
            "\n",
            "Shape:\t(3, 1)\n",
            "Rank:\t2\n",
            "\n"
          ]
        }
      ]
    },
    {
      "cell_type": "markdown",
      "metadata": {
        "id": "wOqY4OL6IfrQ"
      },
      "source": [
        "#### Square Matrices"
      ]
    },
    {
      "cell_type": "markdown",
      "metadata": {
        "id": "DXRUyt6_IfrQ"
      },
      "source": [
        "Square matrices are matrices that have the same row and column sizes. We could say a matrix is square if $i = j$. We can tweak our matrix descriptor function to determine square matrices.\n",
        "\n",
        "BABAGUHIN"
      ]
    },
    {
      "cell_type": "code",
      "metadata": {
        "id": "CvQUhuM4IfrR"
      },
      "source": [
        "def describe_mat(matrix):\n",
        "    is_square = True if matrix.shape[0] == matrix.shape[1] else False \n",
        "    print(f'Matrix:\\n{matrix}\\n\\nShape:\\t{matrix.shape}\\nRank:\\t{matrix.ndim}\\nIs Square: {is_square}\\n')"
      ],
      "execution_count": null,
      "outputs": []
    },
    {
      "cell_type": "code",
      "metadata": {
        "id": "fYldnZYcIfrR",
        "outputId": "91a8babc-3892-4d77-aa3e-66e955f888bc",
        "colab": {
          "base_uri": "https://localhost:8080/"
        }
      },
      "source": [
        "square_mat = np.array([\n",
        "    [4,7,9],\n",
        "    [6,0,1],\n",
        "    [7,2,0]\n",
        "])\n",
        "\n",
        "non_square_mat = np.array([\n",
        "    [5,2,9],\n",
        "    [1,9,5]\n",
        "])\n",
        "describe_mat(square_mat)\n",
        "describe_mat(non_square_mat)"
      ],
      "execution_count": null,
      "outputs": [
        {
          "output_type": "stream",
          "name": "stdout",
          "text": [
            "matrix:\n",
            "[[4 7 9]\n",
            " [6 0 1]\n",
            " [7 2 0]]\n",
            "\n",
            "Shape:\t(3, 3)\n",
            "Rank:\t2\n",
            "\n",
            "matrix:\n",
            "[[5 2 9]\n",
            " [1 9 5]]\n",
            "\n",
            "Shape:\t(2, 3)\n",
            "Rank:\t2\n",
            "\n"
          ]
        }
      ]
    },
    {
      "cell_type": "markdown",
      "metadata": {
        "id": "ZMBb5OJ4IfrR"
      },
      "source": [
        "### According to element values"
      ]
    },
    {
      "cell_type": "markdown",
      "metadata": {
        "id": "UYpPhQIaIfrR"
      },
      "source": [
        "#### Null Matrix"
      ]
    },
    {
      "cell_type": "markdown",
      "metadata": {
        "id": "HTASw0AOIfrS"
      },
      "source": [
        "A Null Matrix is a matrix that has no elements. It is always a subspace of any vector or matrix.\n",
        "\n",
        "BABAGUHIN"
      ]
    },
    {
      "cell_type": "code",
      "metadata": {
        "id": "twSRZ3rbIfrS"
      },
      "source": [
        "def describe_mat(matrix):\n",
        "    if matrix.size > 0:\n",
        "        is_square = True if matrix.shape[0] == matrix.shape[1] else False \n",
        "        print(f'Matrix:\\n{matrix}\\n\\nShape:\\t{matrix.shape}\\nRank:\\t{matrix.ndim}\\nIs Square: {is_square}\\n')\n",
        "    else:\n",
        "        print('Matrix is Null')"
      ],
      "execution_count": null,
      "outputs": []
    },
    {
      "cell_type": "code",
      "metadata": {
        "id": "N1_ZOBKnIfrS",
        "outputId": "300eb940-9e02-40ca-f595-388f6e3616fe",
        "colab": {
          "base_uri": "https://localhost:8080/"
        }
      },
      "source": [
        "null_mat = np.array([])\n",
        "describe_mat(null_mat)"
      ],
      "execution_count": null,
      "outputs": [
        {
          "output_type": "stream",
          "name": "stdout",
          "text": [
            "Matrix is Null\n"
          ]
        }
      ]
    },
    {
      "cell_type": "markdown",
      "metadata": {
        "id": "94tdqW_WIfrS"
      },
      "source": [
        "#### Zero Matrix"
      ]
    },
    {
      "cell_type": "markdown",
      "metadata": {
        "id": "3RowK1awIfrT"
      },
      "source": [
        "A zero matrix can be any rectangular matrix but with all elements having a value of 0."
      ]
    },
    {
      "cell_type": "code",
      "metadata": {
        "id": "4OTDdIJpIfrT",
        "outputId": "87503398-c339-4daf-ed1b-51b1cc41df03",
        "colab": {
          "base_uri": "https://localhost:8080/"
        }
      },
      "source": [
        "zero_mat_row = np.zeros((5,7))\n",
        "zero_mat_sqr = np.zeros((2,4))\n",
        "zero_mat_rct = np.zeros((9,3))\n",
        "\n",
        "print(f'Zero Row Matrix: \\n{zero_mat_row}')\n",
        "print(f'Zero Square Matrix: \\n{zero_mat_sqr}')\n",
        "print(f'Zero Rectangular Matrix: \\n{zero_mat_rct}')"
      ],
      "execution_count": null,
      "outputs": [
        {
          "output_type": "stream",
          "name": "stdout",
          "text": [
            "Zero Row Matrix: \n",
            "[[0. 0. 0. 0. 0. 0. 0.]\n",
            " [0. 0. 0. 0. 0. 0. 0.]\n",
            " [0. 0. 0. 0. 0. 0. 0.]\n",
            " [0. 0. 0. 0. 0. 0. 0.]\n",
            " [0. 0. 0. 0. 0. 0. 0.]]\n",
            "Zero Square Matrix: \n",
            "[[0. 0. 0. 0.]\n",
            " [0. 0. 0. 0.]]\n",
            "Zero Rectangular Matrix: \n",
            "[[0. 0. 0.]\n",
            " [0. 0. 0.]\n",
            " [0. 0. 0.]\n",
            " [0. 0. 0.]\n",
            " [0. 0. 0.]\n",
            " [0. 0. 0.]\n",
            " [0. 0. 0.]\n",
            " [0. 0. 0.]\n",
            " [0. 0. 0.]]\n"
          ]
        }
      ]
    },
    {
      "cell_type": "markdown",
      "metadata": {
        "id": "lbaJywWGIfrT"
      },
      "source": [
        "#### Ones Matrix"
      ]
    },
    {
      "cell_type": "markdown",
      "metadata": {
        "id": "8Gm8dcEGIfrU"
      },
      "source": [
        "A ones matrix, just like the zero matrix, can be any rectangular matrix but all of its elements are 1s instead of 0s.\n",
        "\n",
        "BABAGUHIM"
      ]
    },
    {
      "cell_type": "code",
      "metadata": {
        "id": "p3pKYJ7tIfrV",
        "outputId": "b239bd69-e7ef-499e-e734-4e8b46a2ba36",
        "colab": {
          "base_uri": "https://localhost:8080/"
        }
      },
      "source": [
        "ones_mat_row = np.ones((7,3))\n",
        "ones_mat_sqr = np.ones((2,4))\n",
        "ones_mat_rct = np.ones((2,6))\n",
        "\n",
        "print(f'Ones Row Matrix: \\n{ones_mat_row}')\n",
        "print(f'Ones Square Matrix: \\n{ones_mat_sqr}')\n",
        "print(f'Ones Rectangular Matrix: \\n{ones_mat_rct}')"
      ],
      "execution_count": null,
      "outputs": [
        {
          "output_type": "stream",
          "name": "stdout",
          "text": [
            "Ones Row Matrix: \n",
            "[[1. 1. 1.]\n",
            " [1. 1. 1.]\n",
            " [1. 1. 1.]\n",
            " [1. 1. 1.]\n",
            " [1. 1. 1.]\n",
            " [1. 1. 1.]\n",
            " [1. 1. 1.]]\n",
            "Ones Square Matrix: \n",
            "[[1. 1. 1. 1.]\n",
            " [1. 1. 1. 1.]]\n",
            "Ones Rectangular Matrix: \n",
            "[[1. 1. 1. 1. 1. 1.]\n",
            " [1. 1. 1. 1. 1. 1.]]\n"
          ]
        }
      ]
    },
    {
      "cell_type": "markdown",
      "metadata": {
        "id": "bmAN6cw9IfrV"
      },
      "source": [
        "#### Diagonal Matrix"
      ]
    },
    {
      "cell_type": "markdown",
      "metadata": {
        "id": "Gca0d_gEIfrV"
      },
      "source": [
        "A diagonal matrix is a square matrix that has values only at the diagonal of the matrix. \n",
        "\n",
        "BABAGUHIN"
      ]
    },
    {
      "cell_type": "code",
      "metadata": {
        "id": "EEbog8hUIfrW",
        "colab": {
          "base_uri": "https://localhost:8080/"
        },
        "outputId": "4a8f5a82-5142-491d-bf74-b46b00d4a8cb"
      },
      "source": [
        "np.array([\n",
        "    [4,8,5],\n",
        "    [4,7,3],\n",
        "    [2,1,5]\n",
        "])\n",
        "# a[1,1], a[2,2], a[3,3], ... a[n-1,n-1]"
      ],
      "execution_count": null,
      "outputs": [
        {
          "output_type": "execute_result",
          "data": {
            "text/plain": [
              "array([[4, 8, 5],\n",
              "       [4, 7, 3],\n",
              "       [2, 1, 5]])"
            ]
          },
          "metadata": {},
          "execution_count": 51
        }
      ]
    },
    {
      "cell_type": "code",
      "metadata": {
        "id": "wHIIyLy-IfrW",
        "outputId": "01fb69a9-8cef-4f08-f134-beed83ff95e9",
        "colab": {
          "base_uri": "https://localhost:8080/"
        }
      },
      "source": [
        "d = np.diag([1,2,4,9])\n",
        "d.shape[0] == d.shape[1]\n",
        "d"
      ],
      "execution_count": null,
      "outputs": [
        {
          "output_type": "execute_result",
          "data": {
            "text/plain": [
              "array([[1, 0, 0, 0],\n",
              "       [0, 2, 0, 0],\n",
              "       [0, 0, 4, 0],\n",
              "       [0, 0, 0, 9]])"
            ]
          },
          "metadata": {},
          "execution_count": 52
        }
      ]
    },
    {
      "cell_type": "markdown",
      "metadata": {
        "id": "PHjuyEhgIfrW"
      },
      "source": [
        "#### Identity Matrix"
      ]
    },
    {
      "cell_type": "markdown",
      "metadata": {
        "id": "T8H7CS0VIfrX"
      },
      "source": [
        "An identity matrix is a special diagonal matrix in which the values at the diagonal are ones.\n",
        "\n",
        "BABAGUHIN"
      ]
    },
    {
      "cell_type": "code",
      "metadata": {
        "id": "rBpX9tvlIfrX",
        "outputId": "93403fcf-dce7-4bf7-f418-247f7a12cbdd",
        "colab": {
          "base_uri": "https://localhost:8080/"
        }
      },
      "source": [
        "np.eye(5)"
      ],
      "execution_count": null,
      "outputs": [
        {
          "output_type": "execute_result",
          "data": {
            "text/plain": [
              "array([[1., 0., 0., 0., 0.],\n",
              "       [0., 1., 0., 0., 0.],\n",
              "       [0., 0., 1., 0., 0.],\n",
              "       [0., 0., 0., 1., 0.],\n",
              "       [0., 0., 0., 0., 1.]])"
            ]
          },
          "metadata": {},
          "execution_count": 53
        }
      ]
    },
    {
      "cell_type": "code",
      "metadata": {
        "id": "FCUnfPVUIfrX",
        "outputId": "cc5a6345-69c5-4b59-9d30-27eed0adcb5a",
        "colab": {
          "base_uri": "https://localhost:8080/"
        }
      },
      "source": [
        "np.identity(2)"
      ],
      "execution_count": null,
      "outputs": [
        {
          "output_type": "execute_result",
          "data": {
            "text/plain": [
              "array([[1., 0.],\n",
              "       [0., 1.]])"
            ]
          },
          "metadata": {},
          "execution_count": 54
        }
      ]
    },
    {
      "cell_type": "markdown",
      "metadata": {
        "id": "AmFuUYK-IfrY"
      },
      "source": [
        "#### Upper Triangular Matrix"
      ]
    },
    {
      "cell_type": "markdown",
      "metadata": {
        "id": "OKc2vrotIfrY"
      },
      "source": [
        "An upper triangular matrix is a matrix that has no values below the diagonal. \n",
        "\n",
        "BABAGUHIN"
      ]
    },
    {
      "cell_type": "code",
      "metadata": {
        "id": "6Y97Cf2dIfrY",
        "outputId": "01895bdd-27d4-4073-d928-b10087744055",
        "colab": {
          "base_uri": "https://localhost:8080/"
        }
      },
      "source": [
        "np.array([\n",
        "    [4,7,9,2],\n",
        "    [6,3,2,-2],\n",
        "    [0,2,5,-8],\n",
        "    [5,8,2,-3]\n",
        "])"
      ],
      "execution_count": null,
      "outputs": [
        {
          "output_type": "execute_result",
          "data": {
            "text/plain": [
              "array([[ 4,  7,  9,  2],\n",
              "       [ 6,  3,  2, -2],\n",
              "       [ 0,  2,  5, -8],\n",
              "       [ 5,  8,  2, -3]])"
            ]
          },
          "metadata": {},
          "execution_count": 55
        }
      ]
    },
    {
      "cell_type": "markdown",
      "metadata": {
        "id": "OCo9DMx-IfrY"
      },
      "source": [
        "#### Lower Triangular Matrix"
      ]
    },
    {
      "cell_type": "markdown",
      "metadata": {
        "id": "yUn0BrexIfrY"
      },
      "source": [
        "A lower triangular matrix is a matrix that has no values above the diagonal."
      ]
    },
    {
      "cell_type": "code",
      "metadata": {
        "id": "24C8ufD4IfrZ",
        "outputId": "b3d52402-426d-4535-d7ad-8fcf98e43269",
        "colab": {
          "base_uri": "https://localhost:8080/"
        }
      },
      "source": [
        "np.array([\n",
        "    [9,2,1],\n",
        "    [3,2,8],\n",
        "    [2,9,2]\n",
        "])"
      ],
      "execution_count": null,
      "outputs": [
        {
          "output_type": "execute_result",
          "data": {
            "text/plain": [
              "array([[9, 2, 1],\n",
              "       [3, 2, 8],\n",
              "       [2, 9, 2]])"
            ]
          },
          "metadata": {},
          "execution_count": 56
        }
      ]
    },
    {
      "cell_type": "markdown",
      "metadata": {
        "id": "GoI65w8gIfrZ"
      },
      "source": [
        "## Practice"
      ]
    },
    {
      "cell_type": "markdown",
      "metadata": {
        "id": "0FnWxIO-IfrZ"
      },
      "source": [
        "1. Given the linear combination below, try to create a corresponding matrix representing it."
      ]
    },
    {
      "cell_type": "markdown",
      "source": [
        ":$$\\theta = 5x + 3y - z$$"
      ],
      "metadata": {
        "id": "2qb0Gti2Eop4"
      }
    },
    {
      "cell_type": "markdown",
      "metadata": {
        "id": "mQHWB7CBIfrZ"
      },
      "source": [
        "$$\n",
        "\\theta=\\begin{bmatrix} 5 & 3 & -1 \\end{bmatrix} \\\\\n",
        "$$"
      ]
    },
    {
      "cell_type": "code",
      "metadata": {
        "id": "oa1p8WDCIfrZ"
      },
      "source": [
        ""
      ],
      "execution_count": null,
      "outputs": []
    },
    {
      "cell_type": "markdown",
      "metadata": {
        "id": "O-mXYIEcIfra"
      },
      "source": [
        "2. Given the system of linear combinations below, try to encode it as a matrix. Also describe the matrix."
      ]
    },
    {
      "cell_type": "markdown",
      "metadata": {
        "id": "5rsz78fcIfra"
      },
      "source": [
        "$$\n",
        "A = \\left\\{\\begin{array}\n",
        "5x_1 + 2x_2 +x_3\\\\\n",
        "4x_2 - x_3\\\\\n",
        "10x_3\n",
        "\\end{array}\\right.\n",
        "$$"
      ]
    },
    {
      "cell_type": "code",
      "metadata": {
        "id": "uiHCSSsUIfra"
      },
      "source": [
        "def describe_mat(matrix):\n",
        "  is_square = True if matrix.shape[0]== matrix.shape[1] else False\n",
        "  print(f'matrix:\\n{matrix}\\n\\nShape:\\t{matrix.shape}\\nRank:\\t{matrix.ndim}\\nIs Square: {is_square}\\n')"
      ],
      "execution_count": null,
      "outputs": []
    },
    {
      "cell_type": "code",
      "source": [
        "A = np.array([\n",
        "    [1,2,1],\n",
        "    [0,4,-1],\n",
        "    [0,0,10]\n",
        "])\n",
        "describe_mat(A)"
      ],
      "metadata": {
        "colab": {
          "base_uri": "https://localhost:8080/"
        },
        "id": "NHBBymg6HUgz",
        "outputId": "c97a1998-b20e-4562-f823-8a8e481bc81f"
      },
      "execution_count": null,
      "outputs": [
        {
          "output_type": "stream",
          "name": "stdout",
          "text": [
            "matrix:\n",
            "[[ 1  2  1]\n",
            " [ 0  4 -1]\n",
            " [ 0  0 10]]\n",
            "\n",
            "Shape:\t(3, 3)\n",
            "Rank:\t2\n",
            "Is Square: True\n",
            "\n"
          ]
        }
      ]
    },
    {
      "cell_type": "markdown",
      "metadata": {
        "id": "9GE3XH5dIfra"
      },
      "source": [
        "3. Given the matrix below, express it as a linear combination in a markdown and a LaTeX markdown"
      ]
    },
    {
      "cell_type": "code",
      "metadata": {
        "id": "yTyAfGnQIfrb"
      },
      "source": [
        "G = np.array([\n",
        "    [1,7,8],\n",
        "    [2,2,2],\n",
        "    [4,6,7]\n",
        "])\n"
      ],
      "execution_count": null,
      "outputs": []
    },
    {
      "cell_type": "markdown",
      "metadata": {
        "id": "_escyDoQIfrb"
      },
      "source": [
        "$$\n",
        "G = \\left\\{\\begin{array}\n",
        "1x_1 + 7x_2 +8x_3\\\\\n",
        "4x_2 - x_3\\\\\n",
        "10x_3\n",
        "\\end{array}\\right.\n",
        "$$"
      ]
    },
    {
      "cell_type": "markdown",
      "source": [
        "$$\n",
        "G = \\left\\{\n",
        "    \\begin{array}\\\n",
        "        l + 7m + 8n \\\\ \n",
        "        2l + 2m + 2n \\\\\n",
        "        4l + 6m + 7n\n",
        "    \\end{array}\n",
        "\\right. $$"
      ],
      "metadata": {
        "id": "u0M-Ak3xIvVa"
      }
    },
    {
      "cell_type": "markdown",
      "source": [
        "$$\n",
        "G=\\begin{bmatrix} 1 & 7 & 8 \\\\ 2 & 2 & 2 \\\\ 4 & 6 & 7 \\end{bmatrix} \\\\\n",
        "$$"
      ],
      "metadata": {
        "id": "oMsXv-fVJ-kb"
      }
    },
    {
      "cell_type": "markdown",
      "metadata": {
        "id": "iFi-YaEFIfrb"
      },
      "source": [
        "4. Given the matrix below, display the output as a LaTeX markdown also express it as a system of linear combinations."
      ]
    },
    {
      "cell_type": "code",
      "metadata": {
        "id": "zXF2QjjRIfrd",
        "colab": {
          "base_uri": "https://localhost:8080/"
        },
        "outputId": "afe27057-d2ba-47f7-e09d-0673d4f53de7"
      },
      "source": [
        "H = np.tril(G)\n",
        "H"
      ],
      "execution_count": null,
      "outputs": [
        {
          "output_type": "execute_result",
          "data": {
            "text/plain": [
              "array([[4, 0, 0],\n",
              "       [6, 2, 0]])"
            ]
          },
          "metadata": {},
          "execution_count": 91
        }
      ]
    },
    {
      "cell_type": "markdown",
      "source": [
        "$$\n",
        "H =\\begin{bmatrix} 1 & 0 & 0 \\\\ 2 & 2 & 0 \\\\ 4 & 6 & 7 \\end{bmatrix} \\\\\n",
        "$$"
      ],
      "metadata": {
        "id": "pG-zyqIEKYA_"
      }
    },
    {
      "cell_type": "markdown",
      "source": [
        "$$\n",
        "H = \\left\\{\n",
        "    \\begin{array}\\\n",
        "        l \\\\ \n",
        "        2m + 2n \\\\\n",
        "        4l + 6m + 7n\n",
        "    \\end{array}\n",
        "\\right. $$"
      ],
      "metadata": {
        "id": "kvpo4xgfKqxG"
      }
    },
    {
      "cell_type": "markdown",
      "metadata": {
        "id": "mfSTAHWnIfrd"
      },
      "source": [
        "# Matrix Algebra"
      ]
    },
    {
      "cell_type": "markdown",
      "metadata": {
        "id": "SDneQveAIfre"
      },
      "source": [
        "### Addition"
      ]
    },
    {
      "cell_type": "code",
      "metadata": {
        "id": "b_3fGY_OIfre",
        "colab": {
          "base_uri": "https://localhost:8080/"
        },
        "outputId": "9421e976-9f5d-4550-ead8-e1f9167dae84"
      },
      "source": [
        "A = np.array([\n",
        "    [5,6,7],\n",
        "    [7,3,6],\n",
        "    [3,5,3]\n",
        "])\n",
        "B = np.array([\n",
        "    [6,2,5],\n",
        "    [1,4,2],\n",
        "    [9,2,3],\n",
        "])\n",
        "A+B"
      ],
      "execution_count": null,
      "outputs": [
        {
          "output_type": "execute_result",
          "data": {
            "text/plain": [
              "array([[11,  8, 12],\n",
              "       [ 8,  7,  8],\n",
              "       [12,  7,  6]])"
            ]
          },
          "metadata": {},
          "execution_count": 82
        }
      ]
    },
    {
      "cell_type": "code",
      "metadata": {
        "id": "vccc1a0vIfre",
        "colab": {
          "base_uri": "https://localhost:8080/"
        },
        "outputId": "c91c4331-dd89-4f45-c70a-cd98e0d6936c"
      },
      "source": [
        "5+A "
      ],
      "execution_count": null,
      "outputs": [
        {
          "output_type": "execute_result",
          "data": {
            "text/plain": [
              "array([[10, 11],\n",
              "       [12,  8],\n",
              "       [ 8, 10]])"
            ]
          },
          "metadata": {},
          "execution_count": 75
        }
      ]
    },
    {
      "cell_type": "markdown",
      "metadata": {
        "id": "BH5DsrBcIfre"
      },
      "source": [
        "### Subtraction"
      ]
    },
    {
      "cell_type": "code",
      "metadata": {
        "jupyter": {
          "outputs_hidden": true
        },
        "id": "U9QRMNzpIfrf",
        "colab": {
          "base_uri": "https://localhost:8080/"
        },
        "outputId": "58fcbd47-6162-431f-fe1f-999f05e75635"
      },
      "source": [
        "A-B"
      ],
      "execution_count": null,
      "outputs": [
        {
          "output_type": "execute_result",
          "data": {
            "text/plain": [
              "array([[-1,  4],\n",
              "       [ 6, -1],\n",
              "       [-6,  3]])"
            ]
          },
          "metadata": {},
          "execution_count": 77
        }
      ]
    },
    {
      "cell_type": "code",
      "metadata": {
        "id": "cG-mLLrJIfrf",
        "colab": {
          "base_uri": "https://localhost:8080/"
        },
        "outputId": "56632e31-f4a1-4a4c-97f6-9e748349f8d3"
      },
      "source": [
        "8-B"
      ],
      "execution_count": null,
      "outputs": [
        {
          "output_type": "execute_result",
          "data": {
            "text/plain": [
              "array([[ 2,  6],\n",
              "       [ 7,  4],\n",
              "       [-1,  6]])"
            ]
          },
          "metadata": {},
          "execution_count": 78
        }
      ]
    },
    {
      "cell_type": "markdown",
      "metadata": {
        "id": "CV40q5YlIfrf"
      },
      "source": [
        "### Element-wise Multiplication"
      ]
    },
    {
      "cell_type": "code",
      "metadata": {
        "id": "OtFq5mpcIfrf",
        "colab": {
          "base_uri": "https://localhost:8080/"
        },
        "outputId": "8e640848-1a45-48ff-c484-98a855b7ea7d"
      },
      "source": [
        "A*B\n",
        "np.multiply(A,B)"
      ],
      "execution_count": null,
      "outputs": [
        {
          "output_type": "execute_result",
          "data": {
            "text/plain": [
              "array([[30, 12],\n",
              "       [ 7, 12],\n",
              "       [27, 10]])"
            ]
          },
          "metadata": {},
          "execution_count": 79
        }
      ]
    },
    {
      "cell_type": "code",
      "metadata": {
        "id": "lRKOpw5tIfrg",
        "colab": {
          "base_uri": "https://localhost:8080/"
        },
        "outputId": "d04534c2-f3ae-46d1-9d86-ee7f2895016c"
      },
      "source": [
        "6*A"
      ],
      "execution_count": null,
      "outputs": [
        {
          "output_type": "execute_result",
          "data": {
            "text/plain": [
              "array([[30, 36],\n",
              "       [42, 18],\n",
              "       [18, 30]])"
            ]
          },
          "metadata": {},
          "execution_count": 80
        }
      ]
    },
    {
      "cell_type": "code",
      "metadata": {
        "id": "bbyz0Z2pHTB1",
        "colab": {
          "base_uri": "https://localhost:8080/"
        },
        "outputId": "fcb7d46e-800a-49a4-d2cd-4cfa6ee0de4a"
      },
      "source": [
        "A@B"
      ],
      "execution_count": null,
      "outputs": [
        {
          "output_type": "execute_result",
          "data": {
            "text/plain": [
              "array([[99, 48, 58],\n",
              "       [99, 38, 59],\n",
              "       [50, 32, 34]])"
            ]
          },
          "metadata": {},
          "execution_count": 83
        }
      ]
    },
    {
      "cell_type": "code",
      "metadata": {
        "id": "8iLA6q_lIfrg",
        "colab": {
          "base_uri": "https://localhost:8080/"
        },
        "outputId": "85dbacea-bf17-4b3f-ebd2-33e0c29481c0"
      },
      "source": [
        "alpha=5**-5\n",
        "A/(alpha+B)"
      ],
      "execution_count": null,
      "outputs": [
        {
          "output_type": "execute_result",
          "data": {
            "text/plain": [
              "array([[0.83328889, 2.99952008, 1.39991041],\n",
              "       [6.99776072, 0.74994   , 2.99952008],\n",
              "       [0.33332148, 2.49960006, 0.99989334]])"
            ]
          },
          "metadata": {},
          "execution_count": 85
        }
      ]
    },
    {
      "cell_type": "code",
      "metadata": {
        "id": "gQm11rgpIfrg",
        "outputId": "7f7c0886-d06d-4516-b146-c8a4dd7a56cc",
        "colab": {
          "base_uri": "https://localhost:8080/"
        }
      },
      "source": [
        "np.add(A,B)"
      ],
      "execution_count": null,
      "outputs": [
        {
          "output_type": "execute_result",
          "data": {
            "text/plain": [
              "array([[11,  8, 12],\n",
              "       [ 8,  7,  8],\n",
              "       [12,  7,  6]])"
            ]
          },
          "metadata": {},
          "execution_count": 86
        }
      ]
    },
    {
      "cell_type": "markdown",
      "metadata": {
        "id": "HUOT_9BWIfrg"
      },
      "source": [
        "## Activity"
      ]
    },
    {
      "cell_type": "markdown",
      "metadata": {
        "id": "8GUiKVDeIfrh"
      },
      "source": [
        "### Task 1"
      ]
    },
    {
      "cell_type": "markdown",
      "metadata": {
        "id": "jj9MWQHdIfrh"
      },
      "source": [
        "Create a function named `mat_desc()` that througouhly describes a matrix, it should: <br>\n",
        "1. Displays the shape, size, and rank of the matrix. <br>\n",
        "2. Displays whether the matrix is square or non-square. <br>\n",
        "3. Displays whether the matrix is an empty matrix. <br>\n",
        "4. Displays if the matrix is an identity, ones, or zeros matrix <br>\n",
        "   \n",
        "Use 3 sample matrices in which their shapes are not lower than $(3,3)$.\n",
        "In your methodology, create a flowchart discuss the functions and methods you have done. Present your results in the results section showing the description of each matrix you have declared."
      ]
    },
    {
      "cell_type": "code",
      "metadata": {
        "id": "C4kEil7TIfrh"
      },
      "source": [
        "## Function area"
      ],
      "execution_count": null,
      "outputs": []
    },
    {
      "cell_type": "code",
      "source": [
        "def mat_desc(mat):\n",
        "    sq = False\n",
        "    mat = np.array(mat)\n",
        "    print(mat)\n",
        "    print('Shape:', mat.shape)\n",
        "    print('Size:', mat.size)\n",
        "    print('Rank:', np.linalg.matrix_rank(mat))\n",
        "    if(mat.shape[0] == mat.shape[1]):\n",
        "        sq = True\n",
        "        print('The matrix is square')\n",
        "    else:\n",
        "        print('The matrix is non-square')\n",
        "    if(mat.shape[0] == 0 and mat.shape[1] == 0):\n",
        "        print('The matrix is empty')\n",
        "    else:\n",
        "        print('The matrix is not empty')\n",
        "    iden = np.identity(mat.shape[0])\n",
        "    if(sq and (iden == mat).all()):\n",
        "        print('The matrix is an identity matrix')\n",
        "    else:\n",
        "        print('The matrix is not an identity matrix')\n",
        "    one = np.ones((mat.shape[0], mat.shape[1]))\n",
        "    if((one == mat).all()):\n",
        "        print('The matrix is an ones matrix')\n",
        "    else:\n",
        "        print('The matrix is not an ones matrix')\n",
        "    zero = np.zeros((mat.shape[0], mat.shape[1]))\n",
        "    if((zero == mat).all()):\n",
        "        print('The matrix is an zeros matrix')\n",
        "    else:\n",
        "        print('The matrix is not a zeros matrix')"
      ],
      "metadata": {
        "id": "9JFaBmngbhTe"
      },
      "execution_count": null,
      "outputs": []
    },
    {
      "cell_type": "code",
      "metadata": {
        "id": "WIdSjZKcIfrh"
      },
      "source": [
        "## Matrix declarations"
      ],
      "execution_count": null,
      "outputs": []
    },
    {
      "cell_type": "code",
      "source": [
        "G = np.array([\n",
        "    [1,7,8],\n",
        "    [2,2,2],\n",
        "    [4,6,7]\n",
        "])\n",
        "\n",
        "mat_desc(G)"
      ],
      "metadata": {
        "id": "Y2e11h3ab9uM",
        "outputId": "fcc39219-3a71-43e7-def0-ec6d5c59a050",
        "colab": {
          "base_uri": "https://localhost:8080/"
        }
      },
      "execution_count": null,
      "outputs": [
        {
          "output_type": "stream",
          "name": "stdout",
          "text": [
            "[[1 7 8]\n",
            " [2 2 2]\n",
            " [4 6 7]]\n",
            "Shape: (3, 3)\n",
            "Size: 9\n",
            "Rank: 3\n",
            "The matrix is square\n",
            "The matrix is not empty\n",
            "The matrix is not an identity matrix\n",
            "The matrix is not an ones matrix\n",
            "The matrix is not a zeros matrix\n"
          ]
        }
      ]
    },
    {
      "cell_type": "code",
      "metadata": {
        "id": "uwD8YeVbIfrh"
      },
      "source": [
        "## Test Areas"
      ],
      "execution_count": null,
      "outputs": []
    },
    {
      "cell_type": "markdown",
      "metadata": {
        "id": "e6ZGoLgLIfri"
      },
      "source": [
        "### Task 2"
      ]
    },
    {
      "cell_type": "markdown",
      "metadata": {
        "id": "Z6yZ3_7pIfri"
      },
      "source": [
        "Create a function named `mat_operations()` that takes in two matrices a input parameters it should:<br>\n",
        " 1. Determines if the matrices are viable for operation and returns your own error message if they are not viable.\n",
        " 2. Returns the sum of the matrices.\n",
        " 3. Returns the differen of the matrices.\n",
        " 4. Returns the element-wise multiplication of the matrices.\n",
        " 5. Returns the element-wise division of the matrices.\n",
        "\n",
        "Use 3 sample matrices in which their shapes are not lower than $(3,3)$.\n",
        "In your methodology, create a flowchart discuss the functions and methods you have done. Present your results in the results section showing the description of each matrix you have declared."
      ]
    },
    {
      "cell_type": "code",
      "metadata": {
        "id": "XRtDBMVNIfri"
      },
      "source": [
        "def mat_operations(mat1, mat2):\n",
        "    mat1 = np.array(mat1)\n",
        "    mat2 = np.array(mat2)\n",
        "    print('Matrix 1:', mat1)\n",
        "    print('Matrix 2:', mat2)\n",
        "    if(mat1.shape != mat2.shape):\n",
        "        print('The shape of both matrices are not same. Could not perform operations.')\n",
        "        return\n",
        "    print('Sum of the given matrices:')\n",
        "    msum = mat1 + mat2\n",
        "    print(msum)\n",
        "    print('Difference of the given matrices:')\n",
        "    mdiff = mat1 - mat2\n",
        "    print(mdiff)\n",
        "    print('Element-wise multiplication of the given matrices:')\n",
        "    mmul = np.multiply(mat1, mat2)\n",
        "    print(mmul)\n",
        "    print('Element-wise division of the given matrices:')\n",
        "    mmul = np.divide(mat1, mat2)\n",
        "    print(mmul)"
      ],
      "execution_count": null,
      "outputs": []
    },
    {
      "cell_type": "code",
      "metadata": {
        "id": "X5UT3MtGIfri",
        "outputId": "18a92e7b-032d-4f76-d7ef-07f776715480",
        "colab": {
          "base_uri": "https://localhost:8080/"
        }
      },
      "source": [
        "mat1 = np.array([\n",
        "    [1,7,8],\n",
        "    [2,2,2],\n",
        "    [4,6,7]\n",
        "])\n",
        "\n",
        "mat2 = np.array([\n",
        "    [1,7,8],\n",
        "    [2,2,2],\n",
        "    [4,6,7]\n",
        "])\n",
        "\n",
        "mat_operations(mat1, mat2)"
      ],
      "execution_count": null,
      "outputs": [
        {
          "output_type": "stream",
          "name": "stdout",
          "text": [
            "Matrix 1: [[1 7 8]\n",
            " [2 2 2]\n",
            " [4 6 7]]\n",
            "Matrix 2: [[1 7 8]\n",
            " [2 2 2]\n",
            " [4 6 7]]\n",
            "Sum of the given matrices:\n",
            "[[ 2 14 16]\n",
            " [ 4  4  4]\n",
            " [ 8 12 14]]\n",
            "Difference of the given matrices:\n",
            "[[0 0 0]\n",
            " [0 0 0]\n",
            " [0 0 0]]\n",
            "Element-wise multiplication of the given matrices:\n",
            "[[ 1 49 64]\n",
            " [ 4  4  4]\n",
            " [16 36 49]]\n",
            "Element-wise division of the given matrices:\n",
            "[[1. 1. 1.]\n",
            " [1. 1. 1.]\n",
            " [1. 1. 1.]]\n"
          ]
        }
      ]
    },
    {
      "cell_type": "code",
      "metadata": {
        "id": "Sms7j22UIfri"
      },
      "source": [
        ""
      ],
      "execution_count": null,
      "outputs": []
    },
    {
      "cell_type": "markdown",
      "metadata": {
        "id": "V4LRAK6vIfri"
      },
      "source": [
        "## Conclusion"
      ]
    },
    {
      "cell_type": "markdown",
      "metadata": {
        "id": "qI0-MOPMIfrj"
      },
      "source": [
        "For your conclusion synthesize the concept and application of the laboratory. Briefly discuss what you have learned and achieved in this activity. Also answer the question: \"How can matrix operations solve problems in technology?\"."
      ]
    }
  ]
}