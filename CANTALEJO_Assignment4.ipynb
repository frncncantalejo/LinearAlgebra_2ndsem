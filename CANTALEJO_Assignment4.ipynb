{
  "nbformat": 4,
  "nbformat_minor": 0,
  "metadata": {
    "kernelspec": {
      "display_name": "Python 3",
      "language": "python",
      "name": "python3"
    },
    "language_info": {
      "codemirror_mode": {
        "name": "ipython",
        "version": 3
      },
      "file_extension": ".py",
      "mimetype": "text/x-python",
      "name": "python",
      "nbconvert_exporter": "python",
      "pygments_lexer": "ipython3",
      "version": "3.8.3"
    },
    "colab": {
      "name": "CANTALEJO Assignment4.ipynb",
      "provenance": [],
      "collapsed_sections": [],
      "include_colab_link": true
    }
  },
  "cells": [
    {
      "cell_type": "markdown",
      "metadata": {
        "id": "view-in-github",
        "colab_type": "text"
      },
      "source": [
        "<a href=\"https://colab.research.google.com/github/frncncantalejo/LinearAlgebra_2ndsem/blob/main/CANTALEJO_Assignment4.ipynb\" target=\"_parent\"><img src=\"https://colab.research.google.com/assets/colab-badge.svg\" alt=\"Open In Colab\"/></a>"
      ]
    },
    {
      "cell_type": "markdown",
      "metadata": {
        "id": "oIhcJPw4Ifq7"
      },
      "source": [
        "# Linear Algebra for ChE\n",
        "## Laboratory 4 : Matrices"
      ]
    },
    {
      "cell_type": "markdown",
      "metadata": {
        "id": "z3yQzzctIfrD"
      },
      "source": [
        "### Objectives\n",
        "At the end of this activity you will be able to:\n",
        "1. Be familiar with matrices and their relation to linear equations.\n",
        "2. Perform basic matrix operations.\n",
        "3. Program and translate matrix equations and operations using Python."
      ]
    },
    {
      "cell_type": "markdown",
      "metadata": {
        "id": "xfXvXLl-IfrE"
      },
      "source": [
        "# Discussion"
      ]
    },
    {
      "cell_type": "code",
      "metadata": {
        "id": "2pbwsjOgIfrF"
      },
      "source": [
        "import numpy as np\n",
        "import matplotlib.pyplot as plt\n",
        "import scipy.linalg as la\n",
        "%matplotlib inline"
      ],
      "execution_count": null,
      "outputs": []
    },
    {
      "cell_type": "markdown",
      "metadata": {
        "id": "OoHJrqIuIfrG"
      },
      "source": [
        "### Matrices"
      ]
    },
    {
      "cell_type": "markdown",
      "metadata": {
        "id": "rmoXv48oIfrG"
      },
      "source": [
        "Rows and columns of data make up a Python matrix, which is a customized two-dimensional rectangular array. Mathematical phrases and symbols can also be included in a matrix. Mathematical and scientific computations can benefit greatly from the use of matrix data structures."
      ]
    },
    {
      "cell_type": "markdown",
      "metadata": {
        "id": "vMNHzYdvIfrG"
      },
      "source": [
        "Let's say for example you have $A$ and $B$ as system of equation."
      ]
    },
    {
      "cell_type": "markdown",
      "metadata": {
        "id": "UGBWeAoeIfrH"
      },
      "source": [
        "$$\n",
        "A = \\left\\{\n",
        "    \\begin{array}\\\n",
        "        x + y \\\\ \n",
        "        6x - 15y\n",
        "    \\end{array}\n",
        "\\right. \\\\\n",
        "B = \\left\\{\n",
        "    \\begin{array}\\\n",
        "        5x+2y+8z \\\\ \n",
        "        4x -8y -2z \\\\\n",
        "        -9x + 2y +6z\n",
        "    \\end{array}\n",
        "\\right. \\\\\n",
        "C = \\left\\{\n",
        "    \\begin{array}\\\n",
        "        w-5x+6y-z \\\\ \n",
        "        9w- 5x -3y +z \\\\\n",
        "        6w -3x + 7y - 4z\n",
        "    \\end{array}\n",
        "\\right. $$"
      ]
    },
    {
      "cell_type": "markdown",
      "metadata": {
        "id": "dHxKG8C6IfrH"
      },
      "source": [
        "We could see that $A$ is a system of 2 equations with 2 parameters. While $B$ is a system of 3 equations with 3 parameters. We can represent them as matrices as:"
      ]
    },
    {
      "cell_type": "markdown",
      "metadata": {
        "id": "kA8oyF0GIfrI"
      },
      "source": [
        ":$$\n",
        "A=\\begin{bmatrix} 2 & 5 \\\\ 4 & {-10}\\end{bmatrix} \\\\\n",
        "B=\\begin{bmatrix} 5 & 3 & 6 \\\\ 2 & -6 & -4 \\\\ -4 & 4 & 1\\end{bmatrix}\\\\\n",
        "C=\\begin{bmatrix} 1 & -2 & 3 & -4 \\\\ 4 & -7 & -1 & 9 \\\\ 2 & -4 & 2 & -1\\end{bmatrix}\n",
        "$$"
      ]
    },
    {
      "cell_type": "markdown",
      "metadata": {
        "id": "fKS9O9p6IfrI"
      },
      "source": [
        "### Declaring Matrices"
      ]
    },
    {
      "cell_type": "markdown",
      "metadata": {
        "id": "7_nn4LJyIfrJ"
      },
      "source": [
        "The matrix can include any sort of data, including numbers, strings, and equations. We must first become familiar with the fundamental notions of the matrix before we can use it. The data is organized horizontally into rows and vertically into columns. A matrix has (R) X (C) elements, where R denotes rows and C denotes columns. Since Python lacks a built-in matrix type, we shall use several lists as matrices.\n"
      ]
    },
    {
      "cell_type": "markdown",
      "metadata": {
        "id": "dk6N1g_OIfrJ"
      },
      "source": [
        "$$A=\\begin{bmatrix}\n",
        "a_{(0,0)}&a_{(0,1)}&\\dots&a_{(0,j-1)}\\\\\n",
        "a_{(1,0)}&a_{(1,1)}&\\dots&a_{(1,j-1)}\\\\\n",
        "\\vdots&\\vdots&\\ddots&\\vdots&\\\\\n",
        "a_{(i-1,0)}&a_{(i-1,1)}&\\dots&a_{(i-1,j-1)}\n",
        "\\end{bmatrix}\n",
        "$$"
      ]
    },
    {
      "cell_type": "code",
      "metadata": {
        "id": "2tH_3EyEIfrK"
      },
      "source": [
        "def describe_mat(matrix):\n",
        "  print(f'matrix:\\n{matrix}\\n\\nShape:\\t{matrix.shape}\\nRank:\\t{matrix.ndim}\\n')"
      ],
      "execution_count": null,
      "outputs": []
    },
    {
      "cell_type": "code",
      "metadata": {
        "id": "GtlANSbsIfrK",
        "outputId": "a17b0064-393a-4a3d-804a-5eeffcbe1e04",
        "colab": {
          "base_uri": "https://localhost:8080/"
        }
      },
      "source": [
        "A = np.array([\n",
        "    [4, 8],\n",
        "    [2, 0]\n",
        "])\n",
        "describe_mat(A)"
      ],
      "execution_count": null,
      "outputs": [
        {
          "output_type": "stream",
          "name": "stdout",
          "text": [
            "matrix:\n",
            "[[4 8]\n",
            " [2 0]]\n",
            "\n",
            "Shape:\t(2, 2)\n",
            "Rank:\t2\n",
            "\n"
          ]
        }
      ]
    },
    {
      "cell_type": "code",
      "metadata": {
        "id": "d25x10ZgIfrL",
        "outputId": "35396ac3-c10d-4d19-b974-ea133fa399b4",
        "colab": {
          "base_uri": "https://localhost:8080/"
        }
      },
      "source": [
        "G = np.array([\n",
        "    [4,1,9],\n",
        "    [6,2,8]\n",
        "])\n",
        "describe_mat(G)"
      ],
      "execution_count": null,
      "outputs": [
        {
          "output_type": "stream",
          "name": "stdout",
          "text": [
            "matrix:\n",
            "[[4 1 9]\n",
            " [6 2 8]]\n",
            "\n",
            "Shape:\t(2, 3)\n",
            "Rank:\t2\n",
            "\n"
          ]
        }
      ]
    },
    {
      "cell_type": "code",
      "metadata": {
        "id": "SdPbu_jlIfrM",
        "outputId": "a4d3ffeb-084d-4a5d-cef7-419d705f6b11",
        "colab": {
          "base_uri": "https://localhost:8080/"
        }
      },
      "source": [
        "B = np.array([\n",
        "    [2, 9],\n",
        "    [3, 8],\n",
        "    [2, 1]\n",
        "])\n",
        "describe_mat(B)"
      ],
      "execution_count": null,
      "outputs": [
        {
          "output_type": "stream",
          "name": "stdout",
          "text": [
            "matrix:\n",
            "[[2 9]\n",
            " [3 8]\n",
            " [2 1]]\n",
            "\n",
            "Shape:\t(3, 2)\n",
            "Rank:\t2\n",
            "\n"
          ]
        }
      ]
    },
    {
      "cell_type": "code",
      "metadata": {
        "id": "sfLJuskKIfrM",
        "outputId": "b7534d3a-acb7-4510-c321-bb778ae6589d",
        "colab": {
          "base_uri": "https://localhost:8080/"
        }
      },
      "source": [
        "H = np.array([1,5,9,1])\n",
        "describe_mat(H)"
      ],
      "execution_count": null,
      "outputs": [
        {
          "output_type": "stream",
          "name": "stdout",
          "text": [
            "matrix:\n",
            "[1 5 9 1]\n",
            "\n",
            "Shape:\t(4,)\n",
            "Rank:\t1\n",
            "\n"
          ]
        }
      ]
    },
    {
      "cell_type": "markdown",
      "metadata": {
        "id": "Ay9_A1AnIfrN"
      },
      "source": [
        "## Categorizing Matrices"
      ]
    },
    {
      "cell_type": "markdown",
      "metadata": {
        "id": "qtSnxYlbIfrN"
      },
      "source": [
        "Oftentimes, matrices are classified based on the configurations of their entries."
      ]
    },
    {
      "cell_type": "markdown",
      "metadata": {
        "id": "ijUKSsPyIfrN"
      },
      "source": [
        "### According to shape\n",
        "\n",
        " This table must be complete, which means that each row and column must contain at least one element. Matrixes are often characterized by roman capital letters; the number of rows and columns determines the shape of a matrix. "
      ]
    },
    {
      "cell_type": "markdown",
      "metadata": {
        "id": "fA-Wrv8dIfrN"
      },
      "source": [
        "#### Row and Column Matrices"
      ]
    },
    {
      "cell_type": "markdown",
      "metadata": {
        "id": "FhH0IVzXIfrO"
      },
      "source": [
        "Row matrices have a single row and any number of columns, while column matrices have a single column and any number of rows. Column and row matrices are frequently used in vector and matrix computations and are typically represented by a single column or row. Thus, row matrices have the shape  $1 \\times j$, while column matrices have the shape $i \\times 1$.\n",
        "\n",
        "\n",
        "\n"
      ]
    },
    {
      "cell_type": "code",
      "metadata": {
        "id": "jTlVpfeKIfrO",
        "outputId": "83dc47c6-f583-4b48-fa74-74ce33f856eb",
        "colab": {
          "base_uri": "https://localhost:8080/"
        }
      },
      "source": [
        "\n",
        "rowmatrix1D = np.array([\n",
        "    1, 6, 5, -7\n",
        "])\n",
        "row_mat_2D = np.array([\n",
        "    [1,9,2, -4]\n",
        "])\n",
        "describe_mat(rowmatrix1D)\n",
        "describe_mat(row_mat_2D)"
      ],
      "execution_count": null,
      "outputs": [
        {
          "output_type": "stream",
          "name": "stdout",
          "text": [
            "matrix:\n",
            "[ 1  6  5 -7]\n",
            "\n",
            "Shape:\t(4,)\n",
            "Rank:\t1\n",
            "\n",
            "matrix:\n",
            "[[ 1  9  2 -4]]\n",
            "\n",
            "Shape:\t(1, 4)\n",
            "Rank:\t2\n",
            "\n"
          ]
        }
      ]
    },
    {
      "cell_type": "code",
      "metadata": {
        "id": "hA5AQp_GIfrO",
        "outputId": "26277df3-20d1-4c36-d4af-099043311a48",
        "colab": {
          "base_uri": "https://localhost:8080/"
        }
      },
      "source": [
        "col_mat = np.array([\n",
        "    [10348727],\n",
        "    [4],\n",
        "    [9]\n",
        "]) \n",
        "describe_mat(col_mat)"
      ],
      "execution_count": null,
      "outputs": [
        {
          "output_type": "stream",
          "name": "stdout",
          "text": [
            "matrix:\n",
            "[[10348727]\n",
            " [       4]\n",
            " [       9]]\n",
            "\n",
            "Shape:\t(3, 1)\n",
            "Rank:\t2\n",
            "\n"
          ]
        }
      ]
    },
    {
      "cell_type": "markdown",
      "metadata": {
        "id": "wOqY4OL6IfrQ"
      },
      "source": [
        "#### Square Matrices"
      ]
    },
    {
      "cell_type": "markdown",
      "metadata": {
        "id": "DXRUyt6_IfrQ"
      },
      "source": [
        "A square matrix is a matrix that has the same number of rows and columns as it does columns. Its order is n x n. Additionally, the product of these rows and columns yields the square matrix's element count. As a result, the total number of pieces in it is always a perfect square. The following diagram illustrates a typical square matrix."
      ]
    },
    {
      "cell_type": "code",
      "metadata": {
        "id": "CvQUhuM4IfrR"
      },
      "source": [
        "def describe_mat(matrix):\n",
        "    is_square = True if matrix.shape[0] == matrix.shape[1] else False \n",
        "    print(f'Matrix:\\n{matrix}\\n\\nShape:\\t{matrix.shape}\\nRank:\\t{matrix.ndim}\\nIs Square: {is_square}\\n')"
      ],
      "execution_count": null,
      "outputs": []
    },
    {
      "cell_type": "code",
      "metadata": {
        "id": "fYldnZYcIfrR",
        "outputId": "f4a27dcd-ddab-4597-e0a4-956dbec58810",
        "colab": {
          "base_uri": "https://localhost:8080/"
        }
      },
      "source": [
        "square_mat = np.array([\n",
        "    [4,7,9],\n",
        "    [6,0,1],\n",
        "    [7,2,0]\n",
        "])\n",
        "\n",
        "non_square_mat = np.array([\n",
        "    [5,2,9],\n",
        "    [1,9,5]\n",
        "])\n",
        "describe_mat(square_mat)\n",
        "describe_mat(non_square_mat)"
      ],
      "execution_count": null,
      "outputs": [
        {
          "output_type": "stream",
          "name": "stdout",
          "text": [
            "Matrix:\n",
            "[[4 7 9]\n",
            " [6 0 1]\n",
            " [7 2 0]]\n",
            "\n",
            "Shape:\t(3, 3)\n",
            "Rank:\t2\n",
            "Is Square: True\n",
            "\n",
            "Matrix:\n",
            "[[5 2 9]\n",
            " [1 9 5]]\n",
            "\n",
            "Shape:\t(2, 3)\n",
            "Rank:\t2\n",
            "Is Square: False\n",
            "\n"
          ]
        }
      ]
    },
    {
      "cell_type": "markdown",
      "metadata": {
        "id": "ZMBb5OJ4IfrR"
      },
      "source": [
        "### According to element values"
      ]
    },
    {
      "cell_type": "markdown",
      "metadata": {
        "id": "UYpPhQIaIfrR"
      },
      "source": [
        "#### Null Matrix"
      ]
    },
    {
      "cell_type": "markdown",
      "metadata": {
        "id": "HTASw0AOIfrS"
      },
      "source": [
        "A null matrix is a square matrix with all members equal to zero. The null matrix is any matrix's additive identity. A null matrix has an order of m x n and may have an unbalanced number of rows and columns. The following are a few examples of zero matrix or null matrix.\n"
      ]
    },
    {
      "cell_type": "code",
      "metadata": {
        "id": "twSRZ3rbIfrS"
      },
      "source": [
        "def describe_mat(matrix):\n",
        "    if matrix.size > 0:\n",
        "        is_square = True if matrix.shape[0] == matrix.shape[1] else False \n",
        "        print(f'Matrix:\\n{matrix}\\n\\nShape:\\t{matrix.shape}\\nRank:\\t{matrix.ndim}\\nIs Square: {is_square}\\n')\n",
        "    else:\n",
        "        print('Matrix is Null')"
      ],
      "execution_count": null,
      "outputs": []
    },
    {
      "cell_type": "code",
      "metadata": {
        "id": "N1_ZOBKnIfrS",
        "outputId": "2a767936-f283-4143-a325-46a60a746281",
        "colab": {
          "base_uri": "https://localhost:8080/"
        }
      },
      "source": [
        "null_mat = np.array([])\n",
        "describe_mat(null_mat)"
      ],
      "execution_count": null,
      "outputs": [
        {
          "output_type": "stream",
          "name": "stdout",
          "text": [
            "Matrix is Null\n"
          ]
        }
      ]
    },
    {
      "cell_type": "markdown",
      "metadata": {
        "id": "94tdqW_WIfrS"
      },
      "source": [
        "#### Zero Matrix"
      ]
    },
    {
      "cell_type": "markdown",
      "metadata": {
        "id": "3RowK1awIfrT"
      },
      "source": [
        "In matrix arithmetic, a zero matrix performs many of the same operations as 0 does in ordinary arithmetic.\n",
        "\n"
      ]
    },
    {
      "cell_type": "code",
      "metadata": {
        "id": "4OTDdIJpIfrT",
        "outputId": "9e125602-fb9d-40ef-9e23-0b23a8fe2301",
        "colab": {
          "base_uri": "https://localhost:8080/"
        }
      },
      "source": [
        "zero_mat_row = np.zeros((5,7))\n",
        "zero_mat_sqr = np.zeros((2,4))\n",
        "zero_mat_rct = np.zeros((9,3))\n",
        "\n",
        "print(f'Zero Row Matrix: \\n{zero_mat_row}')\n",
        "print(f'Zero Square Matrix: \\n{zero_mat_sqr}')\n",
        "print(f'Zero Rectangular Matrix: \\n{zero_mat_rct}')"
      ],
      "execution_count": null,
      "outputs": [
        {
          "output_type": "stream",
          "name": "stdout",
          "text": [
            "Zero Row Matrix: \n",
            "[[0. 0. 0. 0. 0. 0. 0.]\n",
            " [0. 0. 0. 0. 0. 0. 0.]\n",
            " [0. 0. 0. 0. 0. 0. 0.]\n",
            " [0. 0. 0. 0. 0. 0. 0.]\n",
            " [0. 0. 0. 0. 0. 0. 0.]]\n",
            "Zero Square Matrix: \n",
            "[[0. 0. 0. 0.]\n",
            " [0. 0. 0. 0.]]\n",
            "Zero Rectangular Matrix: \n",
            "[[0. 0. 0.]\n",
            " [0. 0. 0.]\n",
            " [0. 0. 0.]\n",
            " [0. 0. 0.]\n",
            " [0. 0. 0.]\n",
            " [0. 0. 0.]\n",
            " [0. 0. 0.]\n",
            " [0. 0. 0.]\n",
            " [0. 0. 0.]]\n"
          ]
        }
      ]
    },
    {
      "cell_type": "markdown",
      "metadata": {
        "id": "lbaJywWGIfrT"
      },
      "source": [
        "#### Ones Matrix"
      ]
    },
    {
      "cell_type": "markdown",
      "metadata": {
        "id": "8Gm8dcEGIfrU"
      },
      "source": [
        "The numpy.ones() function in Python creates a new array of the specified structure and data type, with each element's value set to 1. This function is extremely similar to numpy zeros()."
      ]
    },
    {
      "cell_type": "code",
      "metadata": {
        "id": "p3pKYJ7tIfrV",
        "outputId": "430e2f52-bb82-4f30-a25f-220bcdb3f3ce",
        "colab": {
          "base_uri": "https://localhost:8080/"
        }
      },
      "source": [
        "ones_mat_row = np.ones((7,3))\n",
        "ones_mat_sqr = np.ones((2,4))\n",
        "ones_mat_rct = np.ones((2,6))\n",
        "\n",
        "print(f'Ones Row Matrix: \\n{ones_mat_row}')\n",
        "print(f'Ones Square Matrix: \\n{ones_mat_sqr}')\n",
        "print(f'Ones Rectangular Matrix: \\n{ones_mat_rct}')"
      ],
      "execution_count": null,
      "outputs": [
        {
          "output_type": "stream",
          "name": "stdout",
          "text": [
            "Ones Row Matrix: \n",
            "[[1. 1. 1.]\n",
            " [1. 1. 1.]\n",
            " [1. 1. 1.]\n",
            " [1. 1. 1.]\n",
            " [1. 1. 1.]\n",
            " [1. 1. 1.]\n",
            " [1. 1. 1.]]\n",
            "Ones Square Matrix: \n",
            "[[1. 1. 1. 1.]\n",
            " [1. 1. 1. 1.]]\n",
            "Ones Rectangular Matrix: \n",
            "[[1. 1. 1. 1. 1. 1.]\n",
            " [1. 1. 1. 1. 1. 1.]]\n"
          ]
        }
      ]
    },
    {
      "cell_type": "markdown",
      "metadata": {
        "id": "bmAN6cw9IfrV"
      },
      "source": [
        "#### Diagonal Matrix"
      ]
    },
    {
      "cell_type": "markdown",
      "metadata": {
        "id": "Gca0d_gEIfrV"
      },
      "source": [
        "A diagonal matrix is usually a square matrix of order n filled with values on the main diagonal and zeros elsewhere."
      ]
    },
    {
      "cell_type": "code",
      "metadata": {
        "id": "EEbog8hUIfrW",
        "colab": {
          "base_uri": "https://localhost:8080/"
        },
        "outputId": "9f6de884-1683-41a5-cd03-053f75f5e33f"
      },
      "source": [
        "np.array([\n",
        "    [4,8,5],\n",
        "    [4,7,3],\n",
        "    [2,1,5]\n",
        "])\n",
        "# a[1,1], a[2,2], a[3,3], ... a[n-1,n-1]"
      ],
      "execution_count": null,
      "outputs": [
        {
          "output_type": "execute_result",
          "data": {
            "text/plain": [
              "array([[4, 8, 5],\n",
              "       [4, 7, 3],\n",
              "       [2, 1, 5]])"
            ]
          },
          "metadata": {},
          "execution_count": 30
        }
      ]
    },
    {
      "cell_type": "code",
      "metadata": {
        "id": "wHIIyLy-IfrW",
        "outputId": "56fc4b42-9d6f-4394-8ead-8165dbc2dc88",
        "colab": {
          "base_uri": "https://localhost:8080/"
        }
      },
      "source": [
        "d = np.diag([1,2,4,9])\n",
        "d.shape[0] == d.shape[1]\n",
        "d"
      ],
      "execution_count": null,
      "outputs": [
        {
          "output_type": "execute_result",
          "data": {
            "text/plain": [
              "array([[1, 0, 0, 0],\n",
              "       [0, 2, 0, 0],\n",
              "       [0, 0, 4, 0],\n",
              "       [0, 0, 0, 9]])"
            ]
          },
          "metadata": {},
          "execution_count": 31
        }
      ]
    },
    {
      "cell_type": "markdown",
      "metadata": {
        "id": "PHjuyEhgIfrW"
      },
      "source": [
        "#### Identity Matrix"
      ]
    },
    {
      "cell_type": "markdown",
      "metadata": {
        "id": "T8H7CS0VIfrX"
      },
      "source": [
        "In linear algebra, the identity matrix (I) is a specific example of a diagonal matrix that is frequently encountered."
      ]
    },
    {
      "cell_type": "code",
      "metadata": {
        "id": "rBpX9tvlIfrX",
        "outputId": "cebac777-5d30-434a-dbce-7bbab4046e01",
        "colab": {
          "base_uri": "https://localhost:8080/"
        }
      },
      "source": [
        "np.eye(5)"
      ],
      "execution_count": null,
      "outputs": [
        {
          "output_type": "execute_result",
          "data": {
            "text/plain": [
              "array([[1., 0., 0., 0., 0.],\n",
              "       [0., 1., 0., 0., 0.],\n",
              "       [0., 0., 1., 0., 0.],\n",
              "       [0., 0., 0., 1., 0.],\n",
              "       [0., 0., 0., 0., 1.]])"
            ]
          },
          "metadata": {},
          "execution_count": 32
        }
      ]
    },
    {
      "cell_type": "code",
      "metadata": {
        "id": "FCUnfPVUIfrX",
        "outputId": "c18b2f13-c5be-44d9-b43f-c801acbf8102",
        "colab": {
          "base_uri": "https://localhost:8080/"
        }
      },
      "source": [
        "np.identity(2)"
      ],
      "execution_count": null,
      "outputs": [
        {
          "output_type": "execute_result",
          "data": {
            "text/plain": [
              "array([[1., 0.],\n",
              "       [0., 1.]])"
            ]
          },
          "metadata": {},
          "execution_count": 33
        }
      ]
    },
    {
      "cell_type": "markdown",
      "metadata": {
        "id": "AmFuUYK-IfrY"
      },
      "source": [
        "#### Upper Triangular Matrix"
      ]
    },
    {
      "cell_type": "markdown",
      "metadata": {
        "id": "OKc2vrotIfrY"
      },
      "source": [
        "All entries below the diagonal elements are zeros in an upper triangular matrix (also known as right triangular matrix)."
      ]
    },
    {
      "cell_type": "code",
      "metadata": {
        "id": "6Y97Cf2dIfrY",
        "outputId": "e6cb5a50-aa0b-436c-9006-beba0788d2d8",
        "colab": {
          "base_uri": "https://localhost:8080/"
        }
      },
      "source": [
        "X = np.array([\n",
        "  [1,0,0,0],\n",
        "  [6,1,0,0],\n",
        "  [4,6,4,0],\n",
        "  [2,6,1,2]\n",
        "])\n",
        "\n",
        "X"
      ],
      "execution_count": null,
      "outputs": [
        {
          "output_type": "execute_result",
          "data": {
            "text/plain": [
              "array([[1, 0, 0, 0],\n",
              "       [6, 1, 0, 0],\n",
              "       [4, 6, 4, 0],\n",
              "       [2, 6, 1, 2]])"
            ]
          },
          "metadata": {},
          "execution_count": 19
        }
      ]
    },
    {
      "cell_type": "code",
      "source": [
        "M = np.tril(X)\n",
        "M"
      ],
      "metadata": {
        "colab": {
          "base_uri": "https://localhost:8080/"
        },
        "id": "JCoiEnvxSplE",
        "outputId": "c79923d3-f9a0-4574-9cfb-674b294985df"
      },
      "execution_count": null,
      "outputs": [
        {
          "output_type": "execute_result",
          "data": {
            "text/plain": [
              "array([[1, 0, 0, 0],\n",
              "       [6, 1, 0, 0],\n",
              "       [4, 6, 4, 0],\n",
              "       [2, 6, 1, 2]])"
            ]
          },
          "metadata": {},
          "execution_count": 20
        }
      ]
    },
    {
      "cell_type": "markdown",
      "metadata": {
        "id": "OCo9DMx-IfrY"
      },
      "source": [
        "#### Lower Triangular Matrix"
      ]
    },
    {
      "cell_type": "markdown",
      "metadata": {
        "id": "yUn0BrexIfrY"
      },
      "source": [
        "This is a specific example of a square matrix in which all values above the main diagonal has no values."
      ]
    },
    {
      "cell_type": "code",
      "source": [
        "np.array([\n",
        "  [8,7,6,1],\n",
        "  [0,6,7,8],\n",
        "  [0,0,9,7],\n",
        "  [0,0,0,5]\n",
        "])"
      ],
      "metadata": {
        "colab": {
          "base_uri": "https://localhost:8080/"
        },
        "id": "PXVMyibeScdt",
        "outputId": "184344ff-189a-49c1-dc3f-b8c29a8628bb"
      },
      "execution_count": null,
      "outputs": [
        {
          "output_type": "execute_result",
          "data": {
            "text/plain": [
              "array([[8, 7, 6, 1],\n",
              "       [0, 6, 7, 8],\n",
              "       [0, 0, 9, 7],\n",
              "       [0, 0, 0, 5]])"
            ]
          },
          "metadata": {},
          "execution_count": 16
        }
      ]
    },
    {
      "cell_type": "markdown",
      "metadata": {
        "id": "GoI65w8gIfrZ"
      },
      "source": [
        "## Practice"
      ]
    },
    {
      "cell_type": "markdown",
      "metadata": {
        "id": "0FnWxIO-IfrZ"
      },
      "source": [
        "1. Given the linear combination below, try to create a corresponding matrix representing it."
      ]
    },
    {
      "cell_type": "markdown",
      "source": [
        ":$$\\theta = 5x + 3y - z$$"
      ],
      "metadata": {
        "id": "2qb0Gti2Eop4"
      }
    },
    {
      "cell_type": "markdown",
      "metadata": {
        "id": "mQHWB7CBIfrZ"
      },
      "source": [
        "$$\n",
        "\\theta=\\begin{bmatrix} 5 & 3 & -1 \\end{bmatrix} \\\\\n",
        "$$"
      ]
    },
    {
      "cell_type": "markdown",
      "metadata": {
        "id": "O-mXYIEcIfra"
      },
      "source": [
        "2. Given the system of linear combinations below, try to encode it as a matrix. Also describe the matrix."
      ]
    },
    {
      "cell_type": "markdown",
      "metadata": {
        "id": "5rsz78fcIfra"
      },
      "source": [
        "$$\n",
        "A = \\left\\{\\begin{array}\n",
        "5x_1 + 2x_2 +x_3\\\\\n",
        "4x_2 - x_3\\\\\n",
        "10x_3\n",
        "\\end{array}\\right.\n",
        "$$"
      ]
    },
    {
      "cell_type": "code",
      "metadata": {
        "id": "uiHCSSsUIfra"
      },
      "source": [
        "def describe_mat(matrix):\n",
        "  is_square = True if matrix.shape[0]== matrix.shape[1] else False\n",
        "  print(f'matrix:\\n{matrix}\\n\\nShape:\\t{matrix.shape}\\nRank:\\t{matrix.ndim}\\nIs Square: {is_square}\\n')"
      ],
      "execution_count": null,
      "outputs": []
    },
    {
      "cell_type": "code",
      "source": [
        "A = np.array([\n",
        "    [1,2,1],\n",
        "    [0,4,-1],\n",
        "    [0,0,10]\n",
        "])\n",
        "describe_mat(A)"
      ],
      "metadata": {
        "colab": {
          "base_uri": "https://localhost:8080/"
        },
        "id": "NHBBymg6HUgz",
        "outputId": "db74154f-eb32-4cdf-f6e8-26d8e22df590"
      },
      "execution_count": null,
      "outputs": [
        {
          "output_type": "stream",
          "name": "stdout",
          "text": [
            "matrix:\n",
            "[[ 1  2  1]\n",
            " [ 0  4 -1]\n",
            " [ 0  0 10]]\n",
            "\n",
            "Shape:\t(3, 3)\n",
            "Rank:\t2\n",
            "Is Square: True\n",
            "\n"
          ]
        }
      ]
    },
    {
      "cell_type": "markdown",
      "metadata": {
        "id": "9GE3XH5dIfra"
      },
      "source": [
        "3. Given the matrix below, express it as a linear combination in a markdown and a LaTeX markdown"
      ]
    },
    {
      "cell_type": "code",
      "metadata": {
        "id": "yTyAfGnQIfrb"
      },
      "source": [
        "G = np.array([\n",
        "    [1,7,8],\n",
        "    [2,2,2],\n",
        "    [4,6,7]\n",
        "])\n"
      ],
      "execution_count": null,
      "outputs": []
    },
    {
      "cell_type": "markdown",
      "metadata": {
        "id": "_escyDoQIfrb"
      },
      "source": [
        "$$\n",
        "G = \\left\\{\\begin{array}\n",
        "1x_1 + 7x_2 +8x_3\\\\\n",
        "4x_2 - x_3\\\\\n",
        "10x_3\n",
        "\\end{array}\\right.\n",
        "$$"
      ]
    },
    {
      "cell_type": "markdown",
      "source": [
        "$$\n",
        "G = \\left\\{\n",
        "    \\begin{array}\\\n",
        "        l + 7m + 8n \\\\ \n",
        "        2l + 2m + 2n \\\\\n",
        "        4l + 6m + 7n\n",
        "    \\end{array}\n",
        "\\right. $$"
      ],
      "metadata": {
        "id": "u0M-Ak3xIvVa"
      }
    },
    {
      "cell_type": "markdown",
      "source": [
        "$$\n",
        "G=\\begin{bmatrix} 1 & 7 & 8 \\\\ 2 & 2 & 2 \\\\ 4 & 6 & 7 \\end{bmatrix} \\\\\n",
        "$$"
      ],
      "metadata": {
        "id": "oMsXv-fVJ-kb"
      }
    },
    {
      "cell_type": "markdown",
      "metadata": {
        "id": "iFi-YaEFIfrb"
      },
      "source": [
        "4. Given the matrix below, display the output as a LaTeX markdown also express it as a system of linear combinations."
      ]
    },
    {
      "cell_type": "code",
      "metadata": {
        "id": "zXF2QjjRIfrd",
        "colab": {
          "base_uri": "https://localhost:8080/"
        },
        "outputId": "da036dcd-39b7-4a97-c5c3-590e4ae439b7"
      },
      "source": [
        "H = np.tril(G)\n",
        "H"
      ],
      "execution_count": null,
      "outputs": [
        {
          "output_type": "execute_result",
          "data": {
            "text/plain": [
              "array([[1, 0, 0],\n",
              "       [2, 2, 0],\n",
              "       [4, 6, 7]])"
            ]
          },
          "metadata": {},
          "execution_count": 37
        }
      ]
    },
    {
      "cell_type": "markdown",
      "source": [
        "$$\n",
        "H =\\begin{bmatrix} 1 & 0 & 0 \\\\ 2 & 2 & 0 \\\\ 4 & 6 & 7 \\end{bmatrix} \\\\\n",
        "$$"
      ],
      "metadata": {
        "id": "pG-zyqIEKYA_"
      }
    },
    {
      "cell_type": "markdown",
      "source": [
        "$$\n",
        "H = \\left\\{\n",
        "    \\begin{array}\\\n",
        "        l \\\\ \n",
        "        2m + 2n \\\\\n",
        "        4l + 6m + 7n\n",
        "    \\end{array}\n",
        "\\right. $$"
      ],
      "metadata": {
        "id": "kvpo4xgfKqxG"
      }
    },
    {
      "cell_type": "markdown",
      "metadata": {
        "id": "mfSTAHWnIfrd"
      },
      "source": [
        "# Matrix Algebra\n",
        "Matrix algebra is a notation for simultaneous equations that simplifies their presentation and solution. It can be used to generate a brief statement of a structural problem and a mathematical model of the structure."
      ]
    },
    {
      "cell_type": "markdown",
      "metadata": {
        "id": "SDneQveAIfre"
      },
      "source": [
        "### Addition\n",
        "Two matrices can be combined if and only if their dimensions match (both are 2x2, 3x3, and so on)."
      ]
    },
    {
      "cell_type": "code",
      "metadata": {
        "id": "b_3fGY_OIfre",
        "colab": {
          "base_uri": "https://localhost:8080/"
        },
        "outputId": "eddc23b8-be6d-410d-c925-1db2f55ea763"
      },
      "source": [
        "A = np.array([\n",
        "    [5,6,7],\n",
        "    [7,3,6],\n",
        "    [3,5,3]\n",
        "])\n",
        "B = np.array([\n",
        "    [6,2,5],\n",
        "    [1,4,2],\n",
        "    [9,2,3],\n",
        "])\n",
        "A+B"
      ],
      "execution_count": null,
      "outputs": [
        {
          "output_type": "execute_result",
          "data": {
            "text/plain": [
              "array([[11,  8, 12],\n",
              "       [ 8,  7,  8],\n",
              "       [12,  7,  6]])"
            ]
          },
          "metadata": {},
          "execution_count": 38
        }
      ]
    },
    {
      "cell_type": "code",
      "metadata": {
        "id": "vccc1a0vIfre",
        "colab": {
          "base_uri": "https://localhost:8080/"
        },
        "outputId": "0b7a6e84-0dfc-48c9-f950-b186b83a2220"
      },
      "source": [
        "5+A "
      ],
      "execution_count": null,
      "outputs": [
        {
          "output_type": "execute_result",
          "data": {
            "text/plain": [
              "array([[10, 11, 12],\n",
              "       [12,  8, 11],\n",
              "       [ 8, 10,  8]])"
            ]
          },
          "metadata": {},
          "execution_count": 39
        }
      ]
    },
    {
      "cell_type": "markdown",
      "metadata": {
        "id": "BH5DsrBcIfre"
      },
      "source": [
        "### Subtraction\n",
        "If the number of columns in the left matrix equals the number of rows in the second or right matrix, the matrix product of the two matrices can be determined."
      ]
    },
    {
      "cell_type": "code",
      "metadata": {
        "jupyter": {
          "outputs_hidden": true
        },
        "id": "U9QRMNzpIfrf",
        "colab": {
          "base_uri": "https://localhost:8080/"
        },
        "outputId": "4a8bfc8c-d6c5-4c88-869a-da5959e16fe5"
      },
      "source": [
        "A-B"
      ],
      "execution_count": null,
      "outputs": [
        {
          "output_type": "execute_result",
          "data": {
            "text/plain": [
              "array([[-1,  4,  2],\n",
              "       [ 6, -1,  4],\n",
              "       [-6,  3,  0]])"
            ]
          },
          "metadata": {},
          "execution_count": 40
        }
      ]
    },
    {
      "cell_type": "code",
      "metadata": {
        "id": "cG-mLLrJIfrf",
        "colab": {
          "base_uri": "https://localhost:8080/"
        },
        "outputId": "238f5be6-780a-4936-daac-93b45ca9f126"
      },
      "source": [
        "8-B"
      ],
      "execution_count": null,
      "outputs": [
        {
          "output_type": "execute_result",
          "data": {
            "text/plain": [
              "array([[ 2,  6,  3],\n",
              "       [ 7,  4,  6],\n",
              "       [-1,  6,  5]])"
            ]
          },
          "metadata": {},
          "execution_count": 41
        }
      ]
    },
    {
      "cell_type": "markdown",
      "metadata": {
        "id": "CV40q5YlIfrf"
      },
      "source": [
        "### Element-wise Multiplication\n",
        "Every element of the first matrix is multiplied by the corresponding element of the second matrix in element-wise matrix multiplication (also known as the Hadamard Product). Both matrices must have the same dimensions in order to accomplish the element-wise matrix multiplication."
      ]
    },
    {
      "cell_type": "code",
      "metadata": {
        "id": "OtFq5mpcIfrf",
        "colab": {
          "base_uri": "https://localhost:8080/"
        },
        "outputId": "28ef92c6-d812-460e-b148-7d4b67c99f82"
      },
      "source": [
        "A*B\n",
        "np.multiply(A,B)"
      ],
      "execution_count": null,
      "outputs": [
        {
          "output_type": "execute_result",
          "data": {
            "text/plain": [
              "array([[30, 12, 35],\n",
              "       [ 7, 12, 12],\n",
              "       [27, 10,  9]])"
            ]
          },
          "metadata": {},
          "execution_count": 42
        }
      ]
    },
    {
      "cell_type": "code",
      "metadata": {
        "id": "lRKOpw5tIfrg",
        "colab": {
          "base_uri": "https://localhost:8080/"
        },
        "outputId": "daa12bd5-e994-4cd0-b8f1-ddf736486a0c"
      },
      "source": [
        "6*A"
      ],
      "execution_count": null,
      "outputs": [
        {
          "output_type": "execute_result",
          "data": {
            "text/plain": [
              "array([[30, 36, 42],\n",
              "       [42, 18, 36],\n",
              "       [18, 30, 18]])"
            ]
          },
          "metadata": {},
          "execution_count": 43
        }
      ]
    },
    {
      "cell_type": "code",
      "metadata": {
        "id": "bbyz0Z2pHTB1",
        "colab": {
          "base_uri": "https://localhost:8080/"
        },
        "outputId": "39689eb6-5c59-4742-a4ab-44960397564e"
      },
      "source": [
        "A@B"
      ],
      "execution_count": null,
      "outputs": [
        {
          "output_type": "execute_result",
          "data": {
            "text/plain": [
              "array([[99, 48, 58],\n",
              "       [99, 38, 59],\n",
              "       [50, 32, 34]])"
            ]
          },
          "metadata": {},
          "execution_count": 44
        }
      ]
    },
    {
      "cell_type": "code",
      "metadata": {
        "id": "8iLA6q_lIfrg",
        "colab": {
          "base_uri": "https://localhost:8080/"
        },
        "outputId": "7d2e22f4-caa7-41d5-a6b4-3ea12d9cc73e"
      },
      "source": [
        "alpha=5**-5\n",
        "A/(alpha+B)"
      ],
      "execution_count": null,
      "outputs": [
        {
          "output_type": "execute_result",
          "data": {
            "text/plain": [
              "array([[0.83328889, 2.99952008, 1.39991041],\n",
              "       [6.99776072, 0.74994   , 2.99952008],\n",
              "       [0.33332148, 2.49960006, 0.99989334]])"
            ]
          },
          "metadata": {},
          "execution_count": 45
        }
      ]
    },
    {
      "cell_type": "code",
      "metadata": {
        "id": "gQm11rgpIfrg",
        "outputId": "1b09d3a7-bd31-4317-fc4b-88c4250d9d71",
        "colab": {
          "base_uri": "https://localhost:8080/"
        }
      },
      "source": [
        "np.add(A,B)"
      ],
      "execution_count": null,
      "outputs": [
        {
          "output_type": "execute_result",
          "data": {
            "text/plain": [
              "array([[11,  8, 12],\n",
              "       [ 8,  7,  8],\n",
              "       [12,  7,  6]])"
            ]
          },
          "metadata": {},
          "execution_count": 46
        }
      ]
    },
    {
      "cell_type": "markdown",
      "source": [
        "###Actual Multiplication\n",
        "Multiplication of matrices is a mathematical operation that takes two matrices as input and creates a single matrix by multiplying the rows of the first matrix by the column of the second matrix."
      ],
      "metadata": {
        "id": "4ZWDG5xoNOGN"
      }
    },
    {
      "cell_type": "code",
      "source": [
        "H = np.array([\n",
        "    [1,75,4],\n",
        "    [26,8,2],\n",
        "    [43,65,47]\n",
        "])\n",
        "\n",
        "K = np.array([\n",
        "    [5,7,8],\n",
        "    [2,6,2],\n",
        "    [2,6,8]\n",
        "])\n",
        "\n",
        "H@K"
      ],
      "metadata": {
        "colab": {
          "base_uri": "https://localhost:8080/"
        },
        "id": "nRDIH2cENTVW",
        "outputId": "59904f92-8c97-4807-8768-68df7f0087ca"
      },
      "execution_count": null,
      "outputs": [
        {
          "output_type": "execute_result",
          "data": {
            "text/plain": [
              "array([[163, 481, 190],\n",
              "       [150, 242, 240],\n",
              "       [439, 973, 850]])"
            ]
          },
          "metadata": {},
          "execution_count": 22
        }
      ]
    },
    {
      "cell_type": "markdown",
      "metadata": {
        "id": "HUOT_9BWIfrg"
      },
      "source": [
        "## Activity"
      ]
    },
    {
      "cell_type": "markdown",
      "metadata": {
        "id": "8GUiKVDeIfrh"
      },
      "source": [
        "### Task 1"
      ]
    },
    {
      "cell_type": "markdown",
      "metadata": {
        "id": "jj9MWQHdIfrh"
      },
      "source": [
        "Create a function named `mat_desc()` that througouhly describes a matrix, it should: <br>\n",
        "1. Displays the shape, size, and rank of the matrix. <br>\n",
        "2. Displays whether the matrix is square or non-square. <br>\n",
        "3. Displays whether the matrix is an empty matrix. <br>\n",
        "4. Displays if the matrix is an identity, ones, or zeros matrix <br>\n",
        "   \n",
        "Use 3 sample matrices in which their shapes are not lower than $(3,3)$.\n",
        "In your methodology, create a flowchart discuss the functions and methods you have done. Present your results in the results section showing the description of each matrix you have declared."
      ]
    },
    {
      "cell_type": "code",
      "source": [
        "def mat_desc(mat):\n",
        "    sq = False\n",
        "    mat = np.array(mat)\n",
        "    print(mat)\n",
        "    print('Shape:', mat.shape)\n",
        "    print('Size:', mat.size)\n",
        "    print('Rank:', np.linalg.matrix_rank(mat))\n",
        "    if(mat.shape[0] == mat.shape[1]):\n",
        "        sq = True\n",
        "        print('The matrix is square')\n",
        "    else:\n",
        "        print('The matrix is non-square')\n",
        "    if(mat.shape[0] == 0 and mat.shape[1] == 0):\n",
        "        print('The matrix is empty')\n",
        "    else:\n",
        "        print('The matrix is not empty')\n",
        "    iden = np.identity(mat.shape[0])\n",
        "    if(sq and (iden == mat).all()):\n",
        "        print('The matrix is an identity matrix')\n",
        "    else:\n",
        "        print('The matrix is not an identity matrix')\n",
        "    one = np.ones((mat.shape[0], mat.shape[1]))\n",
        "    if((one == mat).all()):\n",
        "        print('The matrix is an ones matrix')\n",
        "    else:\n",
        "        print('The matrix is not an ones matrix')\n",
        "    zero = np.zeros((mat.shape[0], mat.shape[1]))\n",
        "    if((zero == mat).all()):\n",
        "        print('The matrix is an zeros matrix')\n",
        "    else:\n",
        "        print('The matrix is not a zeros matrix')"
      ],
      "metadata": {
        "id": "9JFaBmngbhTe"
      },
      "execution_count": null,
      "outputs": []
    },
    {
      "cell_type": "code",
      "source": [
        "G = np.array([\n",
        "    [1,7,8],\n",
        "    [2,2,2],\n",
        "    [4,6,7]\n",
        "])\n",
        "\n",
        "mat_desc(G)"
      ],
      "metadata": {
        "id": "Y2e11h3ab9uM",
        "outputId": "423029f6-6d5b-4a44-ccef-e54c17a7f380",
        "colab": {
          "base_uri": "https://localhost:8080/"
        }
      },
      "execution_count": null,
      "outputs": [
        {
          "output_type": "stream",
          "name": "stdout",
          "text": [
            "[[1 7 8]\n",
            " [2 2 2]\n",
            " [4 6 7]]\n",
            "Shape: (3, 3)\n",
            "Size: 9\n",
            "Rank: 3\n",
            "The matrix is square\n",
            "The matrix is not empty\n",
            "The matrix is not an identity matrix\n",
            "The matrix is not an ones matrix\n",
            "The matrix is not a zeros matrix\n"
          ]
        }
      ]
    },
    {
      "cell_type": "code",
      "source": [
        "H = np.array([\n",
        "    [5,2,6,3],\n",
        "    [5,9,1,5],\n",
        "    [4,6,8,1],\n",
        "    [4,3,1,0]\n",
        "])\n",
        "\n",
        "mat_desc(H)"
      ],
      "metadata": {
        "colab": {
          "base_uri": "https://localhost:8080/"
        },
        "id": "mSJix-kKzUWQ",
        "outputId": "1ee7cf28-4de5-4e9c-92f9-dadfb3fc607e"
      },
      "execution_count": null,
      "outputs": [
        {
          "output_type": "stream",
          "name": "stdout",
          "text": [
            "[[5 2 6 3]\n",
            " [5 9 1 5]\n",
            " [4 6 8 1]\n",
            " [4 3 1 0]]\n",
            "Shape: (4, 4)\n",
            "Size: 16\n",
            "Rank: 4\n",
            "The matrix is square\n",
            "The matrix is not empty\n",
            "The matrix is not an identity matrix\n",
            "The matrix is not an ones matrix\n",
            "The matrix is not a zeros matrix\n"
          ]
        }
      ]
    },
    {
      "cell_type": "code",
      "source": [
        "I = np.array([\n",
        "    [5,2,6,3,2],\n",
        "    [5,9,1,5,6],\n",
        "    [4,6,8,1,3],\n",
        "    [4,3,1,0,5]\n",
        "])\n",
        "\n",
        "mat_desc(I)"
      ],
      "metadata": {
        "colab": {
          "base_uri": "https://localhost:8080/"
        },
        "id": "ZWlQxypMz45_",
        "outputId": "d38c8b1b-c774-4992-be47-439da1b6bb7b"
      },
      "execution_count": null,
      "outputs": [
        {
          "output_type": "stream",
          "name": "stdout",
          "text": [
            "[[5 2 6 3 2]\n",
            " [5 9 1 5 6]\n",
            " [4 6 8 1 3]\n",
            " [4 3 1 0 5]]\n",
            "Shape: (4, 5)\n",
            "Size: 20\n",
            "Rank: 4\n",
            "The matrix is non-square\n",
            "The matrix is not empty\n",
            "The matrix is not an identity matrix\n",
            "The matrix is not an ones matrix\n",
            "The matrix is not a zeros matrix\n"
          ]
        }
      ]
    },
    {
      "cell_type": "markdown",
      "metadata": {
        "id": "e6ZGoLgLIfri"
      },
      "source": [
        "### Task 2"
      ]
    },
    {
      "cell_type": "markdown",
      "metadata": {
        "id": "Z6yZ3_7pIfri"
      },
      "source": [
        "Create a function named `mat_operations()` that takes in two matrices a input parameters it should:<br>\n",
        " 1. Determines if the matrices are viable for operation and returns your own error message if they are not viable.\n",
        " 2. Returns the sum of the matrices.\n",
        " 3. Returns the differen of the matrices.\n",
        " 4. Returns the element-wise multiplication of the matrices.\n",
        " 5. Returns the element-wise division of the matrices.\n",
        "\n",
        "Use 3 sample matrices in which their shapes are not lower than $(3,3)$.\n",
        "In your methodology, create a flowchart discuss the functions and methods you have done. Present your results in the results section showing the description of each matrix you have declared."
      ]
    },
    {
      "cell_type": "code",
      "metadata": {
        "id": "XRtDBMVNIfri"
      },
      "source": [
        "def mat_operations(mat1, mat2):\n",
        "    mat1 = np.array(mat1)\n",
        "    mat2 = np.array(mat2)\n",
        "    print('Matrix 1:', mat1)\n",
        "    print('Matrix 2:', mat2)\n",
        "    if(mat1.shape != mat2.shape):\n",
        "        print('The shape of both matrices are not same. Could not perform operations.')\n",
        "        return\n",
        "    print('Sum of the given matrices:')\n",
        "    msum = mat1 + mat2\n",
        "    print(msum)\n",
        "    print('Difference of the given matrices:')\n",
        "    mdiff = mat1 - mat2\n",
        "    print(mdiff)\n",
        "    print('Element-wise multiplication of the given matrices:')\n",
        "    mmul = np.multiply(mat1, mat2)\n",
        "    print(mmul)\n",
        "    print('Element-wise division of the given matrices:')\n",
        "    mmul = np.divide(mat1, mat2)\n",
        "    print(mmul)"
      ],
      "execution_count": null,
      "outputs": []
    },
    {
      "cell_type": "code",
      "metadata": {
        "id": "X5UT3MtGIfri",
        "outputId": "5f6f9b50-8ad3-42b1-8ed3-ea77aa28fb6e",
        "colab": {
          "base_uri": "https://localhost:8080/"
        }
      },
      "source": [
        "mat1 = np.array([\n",
        "    [1,8,2,3],\n",
        "    [4,2,9,0],\n",
        "    [4,6,7,1],\n",
        "    [4,2,2,0],\n",
        "\n",
        "])\n",
        "\n",
        "mat2 = np.array([\n",
        "    [1,7,8,4],\n",
        "    [5,2,3,1],\n",
        "    [8,2,9,9],\n",
        "    [8,1,9,7]\n",
        "\n",
        "])\n",
        "\n",
        "mat_operations(mat1, mat2)"
      ],
      "execution_count": null,
      "outputs": [
        {
          "output_type": "stream",
          "name": "stdout",
          "text": [
            "Matrix 1: [[1 8 2 3]\n",
            " [4 2 9 0]\n",
            " [4 6 7 1]\n",
            " [4 2 2 0]]\n",
            "Matrix 2: [[1 7 8 4]\n",
            " [5 2 3 1]\n",
            " [8 2 9 9]\n",
            " [8 1 9 7]]\n",
            "Sum of the given matrices:\n",
            "[[ 2 15 10  7]\n",
            " [ 9  4 12  1]\n",
            " [12  8 16 10]\n",
            " [12  3 11  7]]\n",
            "Difference of the given matrices:\n",
            "[[ 0  1 -6 -1]\n",
            " [-1  0  6 -1]\n",
            " [-4  4 -2 -8]\n",
            " [-4  1 -7 -7]]\n",
            "Element-wise multiplication of the given matrices:\n",
            "[[ 1 56 16 12]\n",
            " [20  4 27  0]\n",
            " [32 12 63  9]\n",
            " [32  2 18  0]]\n",
            "Element-wise division of the given matrices:\n",
            "[[1.         1.14285714 0.25       0.75      ]\n",
            " [0.8        1.         3.         0.        ]\n",
            " [0.5        3.         0.77777778 0.11111111]\n",
            " [0.5        2.         0.22222222 0.        ]]\n"
          ]
        }
      ]
    },
    {
      "cell_type": "code",
      "metadata": {
        "id": "Sms7j22UIfri",
        "colab": {
          "base_uri": "https://localhost:8080/"
        },
        "outputId": "6088dcc7-d589-4a71-b4ce-f862b677bf4a"
      },
      "source": [
        "mat1 = np.array([\n",
        "    [1,98,2,31],\n",
        "    [6,76,91,0],\n",
        "    [9,6,74,1],\n",
        "    [45,2,32,21],\n",
        "\n",
        "])\n",
        "\n",
        "mat2 = np.array([\n",
        "    [34,7,87,4],\n",
        "    [55,2,34,11],\n",
        "    [38,2,23,9],\n",
        "    [98,1,91,70]\n",
        "\n",
        "])\n",
        "\n",
        "mat_operations(mat1, mat2)"
      ],
      "execution_count": null,
      "outputs": [
        {
          "output_type": "stream",
          "name": "stdout",
          "text": [
            "Matrix 1: [[ 1 98  2 31]\n",
            " [ 6 76 91  0]\n",
            " [ 9  6 74  1]\n",
            " [45  2 32 21]]\n",
            "Matrix 2: [[34  7 87  4]\n",
            " [55  2 34 11]\n",
            " [38  2 23  9]\n",
            " [98  1 91 70]]\n",
            "Sum of the given matrices:\n",
            "[[ 35 105  89  35]\n",
            " [ 61  78 125  11]\n",
            " [ 47   8  97  10]\n",
            " [143   3 123  91]]\n",
            "Difference of the given matrices:\n",
            "[[-33  91 -85  27]\n",
            " [-49  74  57 -11]\n",
            " [-29   4  51  -8]\n",
            " [-53   1 -59 -49]]\n",
            "Element-wise multiplication of the given matrices:\n",
            "[[  34  686  174  124]\n",
            " [ 330  152 3094    0]\n",
            " [ 342   12 1702    9]\n",
            " [4410    2 2912 1470]]\n",
            "Element-wise division of the given matrices:\n",
            "[[2.94117647e-02 1.40000000e+01 2.29885057e-02 7.75000000e+00]\n",
            " [1.09090909e-01 3.80000000e+01 2.67647059e+00 0.00000000e+00]\n",
            " [2.36842105e-01 3.00000000e+00 3.21739130e+00 1.11111111e-01]\n",
            " [4.59183673e-01 2.00000000e+00 3.51648352e-01 3.00000000e-01]]\n"
          ]
        }
      ]
    },
    {
      "cell_type": "code",
      "source": [
        "mat1 = np.array([\n",
        "    [31,84,21,33],\n",
        "    [94,26,98,0],\n",
        "    [14,61,74,12],\n",
        "    [45,92,24,10],\n",
        "\n",
        "])\n",
        "\n",
        "mat2 = np.array([\n",
        "    [11,97,38,41],\n",
        "    [50,21,3,13],\n",
        "    [85,25,95,29]\n",
        "\n",
        "])\n",
        "\n",
        "mat_operations(mat1, mat2)"
      ],
      "metadata": {
        "colab": {
          "base_uri": "https://localhost:8080/"
        },
        "id": "617rRPVz40VZ",
        "outputId": "6fe12a8a-da99-4719-9a12-dcfb1e9f5f9f"
      },
      "execution_count": null,
      "outputs": [
        {
          "output_type": "stream",
          "name": "stdout",
          "text": [
            "Matrix 1: [[31 84 21 33]\n",
            " [94 26 98  0]\n",
            " [14 61 74 12]\n",
            " [45 92 24 10]]\n",
            "Matrix 2: [[11 97 38 41]\n",
            " [50 21  3 13]\n",
            " [85 25 95 29]]\n",
            "The shape of both matrices are not same. Could not perform operations.\n"
          ]
        }
      ]
    },
    {
      "cell_type": "markdown",
      "metadata": {
        "id": "V4LRAK6vIfri"
      },
      "source": [
        "## Conclusion"
      ]
    },
    {
      "cell_type": "markdown",
      "metadata": {
        "id": "qI0-MOPMIfrj"
      },
      "source": [
        "For your conclusion synthesize the concept and application of the laboratory. Briefly discuss what you have learned and achieved in this activity. Also answer the question: \"How can matrix operations solve problems in technology?\"."
      ]
    }
  ]
}