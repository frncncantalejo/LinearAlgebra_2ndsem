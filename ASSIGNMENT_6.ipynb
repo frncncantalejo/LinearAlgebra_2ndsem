{
  "cells": [
    {
      "cell_type": "markdown",
      "metadata": {
        "id": "view-in-github",
        "colab_type": "text"
      },
      "source": [
        "<a href=\"https://colab.research.google.com/github/frncncantalejo/LinearAlgebra_2ndsem/blob/main/ASSIGNMENT_6.ipynb\" target=\"_parent\"><img src=\"https://colab.research.google.com/assets/colab-badge.svg\" alt=\"Open In Colab\"/></a>"
      ]
    },
    {
      "cell_type": "markdown",
      "metadata": {
        "id": "JXSeYyZiV-1w"
      },
      "source": [
        "# Linear Algebra for ChE\n",
        "## Laboratory 6 : Matrix Operations"
      ]
    },
    {
      "cell_type": "markdown",
      "metadata": {
        "id": "bhT5OWrBWGaY"
      },
      "source": [
        "Objectives\n",
        "At the end of this activity you will be able to:\n",
        "\n",
        "1.   Be familiar with the fundamental matrix operations.\n",
        "2.   Apply the operations to solve intemrediate equations.\n",
        "3.   Apply matrix algebra in engineering solutions.\n",
        "\n",
        "\n",
        "\n"
      ]
    },
    {
      "cell_type": "code",
      "execution_count": null,
      "metadata": {
        "id": "nh9wz-TJ8rYZ"
      },
      "outputs": [],
      "source": [
        "import numpy as np\n",
        "import matplotlib.pyplot as plt\n",
        "%matplotlib inline"
      ]
    },
    {
      "cell_type": "markdown",
      "metadata": {
        "id": "8PRpQOmX9CDn"
      },
      "source": [
        "#Transposition\n",
        "\n",
        "The transposition of a matrix is the process of rearranging the rows and columns. It is indicated by the symbol X'. The element in X's ith row and jth column will be placed in X's ith row and ith column. Assume that X is a 3x2 matrix and X' is a 2x3 matrix."
      ]
    },
    {
      "cell_type": "markdown",
      "metadata": {
        "id": "Tn0RBdXhX7FA"
      },
      "source": [
        "$$A = \\begin{bmatrix} 1 & 2 & 5\\\\6 & 1 &3 \\\\ 4 & 6 & 4\\end{bmatrix} $$"
      ]
    },
    {
      "cell_type": "markdown",
      "metadata": {
        "id": "0MkpRymMX73B"
      },
      "source": [
        "$$ A^T = \\begin{bmatrix} 1 & 5 & 0\\\\2 & -1 &-3 \\\\ 5 & 0 & 3\\end{bmatrix}$$"
      ]
    },
    {
      "cell_type": "code",
      "execution_count": null,
      "metadata": {
        "colab": {
          "base_uri": "https://localhost:8080/"
        },
        "id": "CtXjkfC19E4h",
        "outputId": "908f78b3-ff05-4988-8101-69fb26ddef62"
      },
      "outputs": [
        {
          "data": {
            "text/plain": [
              "array([[1, 2, 5],\n",
              "       [6, 1, 3],\n",
              "       [4, 6, 4]])"
            ]
          },
          "execution_count": 55,
          "metadata": {},
          "output_type": "execute_result"
        }
      ],
      "source": [
        "A = np.array([\n",
        "  [1,2,5,],\n",
        "  [6,1,3,],\n",
        "  [4,6,4,]\n",
        "])\n",
        "\n",
        "A"
      ]
    },
    {
      "cell_type": "code",
      "execution_count": null,
      "metadata": {
        "colab": {
          "base_uri": "https://localhost:8080/"
        },
        "id": "5mEYRbMO-HEN",
        "outputId": "722c05c9-ffb8-422a-8017-8fc1baf79254"
      },
      "outputs": [
        {
          "data": {
            "text/plain": [
              "array([[1, 6, 4],\n",
              "       [2, 1, 6],\n",
              "       [5, 3, 4]])"
            ]
          },
          "execution_count": 56,
          "metadata": {},
          "output_type": "execute_result"
        }
      ],
      "source": [
        "AT1 = np.transpose(A)\n",
        "AT1"
      ]
    },
    {
      "cell_type": "code",
      "execution_count": null,
      "metadata": {
        "colab": {
          "base_uri": "https://localhost:8080/"
        },
        "id": "3yqoODVO-6kL",
        "outputId": "8ec4d0c3-ae90-44b0-b28f-daa27787ab03"
      },
      "outputs": [
        {
          "data": {
            "text/plain": [
              "array([[1, 6, 4],\n",
              "       [2, 1, 6],\n",
              "       [5, 3, 4]])"
            ]
          },
          "execution_count": 57,
          "metadata": {},
          "output_type": "execute_result"
        }
      ],
      "source": [
        "AT2 = A.T\n",
        "AT2"
      ]
    },
    {
      "cell_type": "code",
      "execution_count": null,
      "metadata": {
        "colab": {
          "base_uri": "https://localhost:8080/"
        },
        "id": "8NXLjpys_N_G",
        "outputId": "34465639-8544-431a-def0-b207d8c70e3d"
      },
      "outputs": [
        {
          "data": {
            "text/plain": [
              "True"
            ]
          },
          "execution_count": 58,
          "metadata": {},
          "output_type": "execute_result"
        }
      ],
      "source": [
        "np.array_equiv(AT1, AT2)\n"
      ]
    },
    {
      "cell_type": "code",
      "execution_count": null,
      "metadata": {
        "colab": {
          "base_uri": "https://localhost:8080/"
        },
        "id": "RN6T_hia_lru",
        "outputId": "7af50b43-b261-4470-892e-e50bb2a7a9f1"
      },
      "outputs": [
        {
          "data": {
            "text/plain": [
              "(3, 5)"
            ]
          },
          "execution_count": 59,
          "metadata": {},
          "output_type": "execute_result"
        }
      ],
      "source": [
        "B = np.array([\n",
        "    [5,3,9,3,3],\n",
        "    [8,6,0,5,6],\n",
        "    [4,2,1,3,2]\n",
        "])\n",
        "B.shape"
      ]
    },
    {
      "cell_type": "code",
      "execution_count": null,
      "metadata": {
        "colab": {
          "base_uri": "https://localhost:8080/"
        },
        "id": "s03NlWw6_57U",
        "outputId": "17e9753b-2041-4a53-be41-b496c5be8dcd"
      },
      "outputs": [
        {
          "data": {
            "text/plain": [
              "(5, 3)"
            ]
          },
          "execution_count": 60,
          "metadata": {},
          "output_type": "execute_result"
        }
      ],
      "source": [
        "np.transpose(B).shape"
      ]
    },
    {
      "cell_type": "code",
      "execution_count": null,
      "metadata": {
        "colab": {
          "base_uri": "https://localhost:8080/"
        },
        "id": "FDgDgfme_9cs",
        "outputId": "56bc3dc5-2191-481e-d97f-95c8a484b940"
      },
      "outputs": [
        {
          "data": {
            "text/plain": [
              "(5, 3)"
            ]
          },
          "execution_count": 61,
          "metadata": {},
          "output_type": "execute_result"
        }
      ],
      "source": [
        "B.T.shape\n"
      ]
    },
    {
      "cell_type": "markdown",
      "metadata": {
        "id": "Ar-gIqyOBSub"
      },
      "source": [
        "#Dot Product / Inner Product"
      ]
    },
    {
      "cell_type": "markdown",
      "metadata": {
        "id": "ttIBavaef6v2"
      },
      "source": [
        "The dot product is an algebraic operation that accepts two vectors of equal length and produces a scalar. The inner product is frequently used in Euclidean geometry to refer to the dot product among two vectors' Cartesian components."
      ]
    },
    {
      "cell_type": "markdown",
      "metadata": {
        "id": "dMgAtdDOdiDP"
      },
      "source": [
        "$$X = \\begin{bmatrix}x_{(0,0)}&x_{(0,1)}\\\\ x_{(1,0)}&x_{(1,1)}\\end{bmatrix}, Y = \\begin{bmatrix}y_{(0,0)}&y_{(0,1)}\\\\ y_{(1,0)}&y_{(1,1)}\\end{bmatrix}$$\n",
        "\n",
        "The dot product will then be computed as:\n",
        "$$X \\cdot Y= \\begin{bmatrix} x_{(0,0)}*y_{(0,0)} + x_{(0,1)}*y_{(1,0)} & x_{(0,0)}*y_{(0,1)} + x_{(0,1)}*y_{(1,1)} \\\\  x_{(1,0)}*y_{(0,0)} + x_{(1,1)}*y_{(1,0)} & x_{(1,0)}*y_{(0,1)} + x_{(1,1)}*y_{(1,1)}\n",
        "\\end{bmatrix}$$\n",
        "\n",
        "So if we assign values to $X$ and $Y$:\n",
        "$$X = \\begin{bmatrix}1&2\\\\ 0&1\\end{bmatrix}, Y = \\begin{bmatrix}-1&0\\\\ 2&2\\end{bmatrix}$$\n",
        "\n",
        "$$X \\cdot Y= \\begin{bmatrix} 1*-1 + 2*2 & 1*0 + 2*2 \\\\  0*-1 + 1*2 & 0*0 + 1*2 \\end{bmatrix} = \\begin{bmatrix} 3 & 4 \\\\2 & 2 \\end{bmatrix}$$\n"
      ]
    },
    {
      "cell_type": "code",
      "execution_count": null,
      "metadata": {
        "id": "Cw4HvlXdBQZ6"
      },
      "outputs": [],
      "source": [
        "X = np.array([\n",
        "    [4,36,5],\n",
        "    [1,32,7]\n",
        "])\n",
        "\n",
        "Y = np.array([\n",
        "    [99,43,19],\n",
        "    [45,34,53],\n",
        "    [54,21,71]\n",
        "])"
      ]
    },
    {
      "cell_type": "code",
      "execution_count": null,
      "metadata": {
        "colab": {
          "base_uri": "https://localhost:8080/"
        },
        "id": "iDLqsobWBnej",
        "outputId": "16ce45ac-66d0-4eac-ef9c-8dbaf87198c3"
      },
      "outputs": [
        {
          "data": {
            "text/plain": [
              "array([[2286, 1501, 2339],\n",
              "       [1917, 1278, 2212]])"
            ]
          },
          "execution_count": 12,
          "metadata": {},
          "output_type": "execute_result"
        }
      ],
      "source": [
        "np.dot(X,Y)"
      ]
    },
    {
      "cell_type": "code",
      "execution_count": null,
      "metadata": {
        "colab": {
          "base_uri": "https://localhost:8080/"
        },
        "id": "Py0dV0REBsDH",
        "outputId": "cfd3a693-c5d4-41a5-af6d-7ba15329978f"
      },
      "outputs": [
        {
          "data": {
            "text/plain": [
              "array([[2286, 1501, 2339],\n",
              "       [1917, 1278, 2212]])"
            ]
          },
          "execution_count": 13,
          "metadata": {},
          "output_type": "execute_result"
        }
      ],
      "source": [
        "X.dot(Y)\n"
      ]
    },
    {
      "cell_type": "code",
      "execution_count": null,
      "metadata": {
        "colab": {
          "base_uri": "https://localhost:8080/"
        },
        "id": "V6VPfNoZB35X",
        "outputId": "69ee9871-b1bb-4507-ebd1-36d04500d939"
      },
      "outputs": [
        {
          "data": {
            "text/plain": [
              "array([[2286, 1501, 2339],\n",
              "       [1917, 1278, 2212]])"
            ]
          },
          "execution_count": 14,
          "metadata": {},
          "output_type": "execute_result"
        }
      ],
      "source": [
        "X @ Y\n"
      ]
    },
    {
      "cell_type": "code",
      "execution_count": null,
      "metadata": {
        "colab": {
          "base_uri": "https://localhost:8080/"
        },
        "id": "MvXUMkOoB64L",
        "outputId": "f076aa74-74d2-4255-fcfc-040692fad7a8"
      },
      "outputs": [
        {
          "data": {
            "text/plain": [
              "array([[2286, 1501, 2339],\n",
              "       [1917, 1278, 2212]])"
            ]
          },
          "execution_count": 15,
          "metadata": {},
          "output_type": "execute_result"
        }
      ],
      "source": [
        "np.matmul(X,Y)\n"
      ]
    },
    {
      "cell_type": "markdown",
      "metadata": {
        "id": "RyU37B18Dd0H"
      },
      "source": [
        "### Rule 1: The inner dimensions of the two matrices in question must be the same. \n",
        "\n",
        "$$A = \\begin{bmatrix}6&3\\\\1&8\\\\-3&2\\\\6&5\\end{bmatrix}, B = \\begin{bmatrix}5&4\\\\6&3\\\\4&3\\\\5&6\\end{bmatrix}, C = \\begin{bmatrix}2&5&5&8\\\\4&1&6&6\\end{bmatrix}$$\n"
      ]
    },
    {
      "cell_type": "code",
      "execution_count": null,
      "metadata": {
        "colab": {
          "base_uri": "https://localhost:8080/"
        },
        "id": "pvlLvS3KDhRA",
        "outputId": "8bbb897f-5614-4755-aeab-b1d0f8266489"
      },
      "outputs": [
        {
          "name": "stdout",
          "output_type": "stream",
          "text": [
            "(4, 2)\n",
            "(4, 2)\n",
            "(2, 4)\n"
          ]
        }
      ],
      "source": [
        "A = np.array([\n",
        "    [6, 3],\n",
        "    [1, 8],\n",
        "    [-3, 2],\n",
        "    [6, 5],\n",
        "\n",
        "])\n",
        "B = np.array([\n",
        "    [5,4],\n",
        "    [6,3],\n",
        "    [4,3],\n",
        "    [5,6]\n",
        "])\n",
        "C = np.array([\n",
        "    [2,5,5,8],\n",
        "    [4,1,1,6]\n",
        "])\n",
        "print(A.shape)\n",
        "print(B.shape)\n",
        "print(C.shape)"
      ]
    },
    {
      "cell_type": "code",
      "execution_count": null,
      "metadata": {
        "colab": {
          "base_uri": "https://localhost:8080/"
        },
        "id": "GJL59eCIGbwC",
        "outputId": "34cdfa7b-16ed-4197-ca3d-6f44082d3759"
      },
      "outputs": [
        {
          "data": {
            "text/plain": [
              "array([[ 24,  33,  33,  66],\n",
              "       [ 34,  13,  13,  56],\n",
              "       [  2, -13, -13, -12],\n",
              "       [ 32,  35,  35,  78]])"
            ]
          },
          "execution_count": 17,
          "metadata": {},
          "output_type": "execute_result"
        }
      ],
      "source": [
        "A @ C"
      ]
    },
    {
      "cell_type": "code",
      "execution_count": null,
      "metadata": {
        "colab": {
          "base_uri": "https://localhost:8080/"
        },
        "id": "gfcfdUWdGeEr",
        "outputId": "e23aadda-e2ab-4ac2-c6f6-8364c200797b"
      },
      "outputs": [
        {
          "data": {
            "text/plain": [
              "array([[26, 29, 29, 64],\n",
              "       [24, 33, 33, 66],\n",
              "       [20, 23, 23, 50],\n",
              "       [34, 31, 31, 76]])"
            ]
          },
          "execution_count": 18,
          "metadata": {},
          "output_type": "execute_result"
        }
      ],
      "source": [
        "B @ C"
      ]
    },
    {
      "cell_type": "code",
      "execution_count": null,
      "metadata": {
        "colab": {
          "base_uri": "https://localhost:8080/"
        },
        "id": "AUiG8VvxGiWH",
        "outputId": "daa2e3f0-d10c-4299-a0c8-5db3753031fc"
      },
      "outputs": [
        {
          "data": {
            "text/plain": [
              "array([[ 42,  45,  33,  48],\n",
              "       [ 37,  30,  28,  53],\n",
              "       [ -7, -12,  -6,  -3],\n",
              "       [ 50,  51,  39,  60]])"
            ]
          },
          "execution_count": 19,
          "metadata": {},
          "output_type": "execute_result"
        }
      ],
      "source": [
        "A @ B.T"
      ]
    },
    {
      "cell_type": "code",
      "execution_count": null,
      "metadata": {
        "colab": {
          "base_uri": "https://localhost:8080/"
        },
        "id": "3i0WvZxXGmMf",
        "outputId": "75c7345a-bfc8-4892-db3d-46956f8ec310"
      },
      "outputs": [
        {
          "name": "stdout",
          "output_type": "stream",
          "text": [
            "(1, 4)\n",
            "(1, 4)\n"
          ]
        }
      ],
      "source": [
        "X = np.array([\n",
        "    [1,2,3,0]\n",
        "])\n",
        "Y = np.array([\n",
        "    [1,0,4,-1]\n",
        "])\n",
        "print(X.shape)\n",
        "print(Y.shape)"
      ]
    },
    {
      "cell_type": "code",
      "execution_count": null,
      "metadata": {
        "colab": {
          "base_uri": "https://localhost:8080/"
        },
        "id": "SyPpSKW7GogV",
        "outputId": "127d13c6-0277-42df-e4a9-89dfce10692e"
      },
      "outputs": [
        {
          "data": {
            "text/plain": [
              "array([[ 1,  2,  3,  0],\n",
              "       [ 0,  0,  0,  0],\n",
              "       [ 4,  8, 12,  0],\n",
              "       [-1, -2, -3,  0]])"
            ]
          },
          "execution_count": 45,
          "metadata": {},
          "output_type": "execute_result"
        }
      ],
      "source": [
        "Y.T @ X"
      ]
    },
    {
      "cell_type": "markdown",
      "metadata": {
        "id": "_8kWR2wtGuHd"
      },
      "source": [
        "### Rule 2: Dot Product has special properties\n",
        "\n",
        "Due to the fact that dot products are frequently used in matrix algebra, they possess numerous distinctive aspects that should be considered when formulating solutions:\n",
        " 1. $A \\cdot B \\neq B \\cdot A$\n",
        " 2. $A \\cdot (B \\cdot C) = (A \\cdot B) \\cdot C$\n",
        " 3. $A\\cdot(B+C) = A\\cdot B + A\\cdot C$\n",
        " 4. $(B+C)\\cdot A = B\\cdot A + C\\cdot A$\n",
        " 5. $A\\cdot I = A$\n",
        " 6. $A\\cdot \\emptyset = \\emptyset$ "
      ]
    },
    {
      "cell_type": "code",
      "execution_count": null,
      "metadata": {
        "id": "ABOvzfRTGvQa"
      },
      "outputs": [],
      "source": [
        "A = np.array([\n",
        "    [9,3,4],\n",
        "    [23,87,2],\n",
        "    [45,62,45]\n",
        "])\n",
        "B = np.array([\n",
        "    [76,21,43],\n",
        "    [64,51,94],\n",
        "    [15,43,38]\n",
        "])\n",
        "C = np.array([\n",
        "    [21,74,52],\n",
        "    [93,27,18],\n",
        "    [57,32,29]\n",
        "])"
      ]
    },
    {
      "cell_type": "code",
      "execution_count": null,
      "metadata": {
        "colab": {
          "base_uri": "https://localhost:8080/"
        },
        "id": "VPFHkbL2HZCW",
        "outputId": "6da6b008-a2d8-4309-93ce-e90ff8483c6f"
      },
      "outputs": [
        {
          "data": {
            "text/plain": [
              "array([[0., 0., 0.],\n",
              "       [0., 0., 0.],\n",
              "       [0., 0., 0.]])"
            ]
          },
          "execution_count": 47,
          "metadata": {},
          "output_type": "execute_result"
        }
      ],
      "source": [
        "A.dot(np.zeros(A.shape))"
      ]
    },
    {
      "cell_type": "code",
      "execution_count": null,
      "metadata": {
        "colab": {
          "base_uri": "https://localhost:8080/"
        },
        "id": "MsJE_j3THZjl",
        "outputId": "1468c0b9-0f29-4813-99ca-bc4c95c69c95"
      },
      "outputs": [
        {
          "data": {
            "text/plain": [
              "array([[0., 0., 0.],\n",
              "       [0., 0., 0.],\n",
              "       [0., 0., 0.]])"
            ]
          },
          "execution_count": 48,
          "metadata": {},
          "output_type": "execute_result"
        }
      ],
      "source": [
        "z_mat = np.zeros(A.shape)\n",
        "z_mat"
      ]
    },
    {
      "cell_type": "code",
      "execution_count": null,
      "metadata": {
        "colab": {
          "base_uri": "https://localhost:8080/"
        },
        "id": "jvgMA1oVHgaM",
        "outputId": "2b9e7570-3ab0-48df-8ad9-bdd4defb0d8a"
      },
      "outputs": [
        {
          "data": {
            "text/plain": [
              "array([[0., 0., 0.],\n",
              "       [0., 0., 0.],\n",
              "       [0., 0., 0.]])"
            ]
          },
          "execution_count": 49,
          "metadata": {},
          "output_type": "execute_result"
        }
      ],
      "source": [
        "a_dot_z = A.dot(np.zeros(A.shape))\n",
        "a_dot_z"
      ]
    },
    {
      "cell_type": "code",
      "execution_count": null,
      "metadata": {
        "colab": {
          "base_uri": "https://localhost:8080/"
        },
        "id": "uLVgJ3zoHmJH",
        "outputId": "672dbaa4-6a81-4510-e511-83d82d445303"
      },
      "outputs": [
        {
          "data": {
            "text/plain": [
              "True"
            ]
          },
          "execution_count": 50,
          "metadata": {},
          "output_type": "execute_result"
        }
      ],
      "source": [
        "np.array_equal(a_dot_z,z_mat)"
      ]
    },
    {
      "cell_type": "code",
      "execution_count": null,
      "metadata": {
        "colab": {
          "base_uri": "https://localhost:8080/"
        },
        "id": "a3afTa7eHo93",
        "outputId": "14d62f93-113d-4518-aa6a-d38fa3d6f7bb"
      },
      "outputs": [
        {
          "name": "stdout",
          "output_type": "stream",
          "text": [
            "[[0. 0. 0.]\n",
            " [0. 0. 0.]\n",
            " [0. 0. 0.]]\n"
          ]
        },
        {
          "data": {
            "text/plain": [
              "True"
            ]
          },
          "execution_count": 26,
          "metadata": {},
          "output_type": "execute_result"
        }
      ],
      "source": [
        "null_mat = np.empty(A.shape, dtype=float)\n",
        "null = np.array(null_mat,dtype=float)\n",
        "print(null)\n",
        "np.allclose(a_dot_z,null)"
      ]
    },
    {
      "cell_type": "markdown",
      "metadata": {
        "id": "7QKksL-WUKeJ"
      },
      "source": [
        "##Determinant\n",
        "\n",
        "The determinant of a square matrix is a specific number that may be derived from a square matrix and is denoted by the symbol."
      ]
    },
    {
      "cell_type": "code",
      "execution_count": null,
      "metadata": {
        "colab": {
          "base_uri": "https://localhost:8080/"
        },
        "id": "YWb0NV_BUPEk",
        "outputId": "00b25975-7786-4d86-fd92-91c992b7a38c"
      },
      "outputs": [
        {
          "data": {
            "text/plain": [
              "-1552.0000000000005"
            ]
          },
          "execution_count": 51,
          "metadata": {},
          "output_type": "execute_result"
        }
      ],
      "source": [
        "A = np.array([\n",
        "    [13,44],\n",
        "    [40,16]\n",
        "])\n",
        "\n",
        "np.linalg.det(A)"
      ]
    },
    {
      "cell_type": "code",
      "execution_count": null,
      "metadata": {
        "colab": {
          "base_uri": "https://localhost:8080/"
        },
        "id": "mOnnQecMUW6X",
        "outputId": "fec31f68-700d-4dd9-be9e-dbe724d33834"
      },
      "outputs": [
        {
          "data": {
            "text/plain": [
              "5803199.000000002"
            ]
          },
          "execution_count": 35,
          "metadata": {},
          "output_type": "execute_result"
        }
      ],
      "source": [
        "B = np.array([\n",
        "    [21,32,55,26],\n",
        "    [-90,33,12,35],\n",
        "    [13,15,48,23],\n",
        "    [54,23,26,78]\n",
        "])\n",
        "np.linalg.det(B)"
      ]
    },
    {
      "cell_type": "markdown",
      "metadata": {
        "id": "wNYzt4Q_Ue3c"
      },
      "source": [
        "##Inverse\n",
        "\n",
        "The inverse of a matrix is simply the reciprocal of the matrix, as we do in standard arithmetic when dealing with a single number. This reciprocal is used to solve equations and determine the values of unknown variables. The inverse of a matrix is the matrix that produces an identity matrix when multiplied by the original matrix"
      ]
    },
    {
      "cell_type": "code",
      "execution_count": null,
      "metadata": {
        "colab": {
          "base_uri": "https://localhost:8080/"
        },
        "id": "oytZHPhxUg4C",
        "outputId": "c6225568-e79d-4732-88b9-c54b3adeebec"
      },
      "outputs": [
        {
          "data": {
            "text/plain": [
              "array([[1, 0],\n",
              "       [0, 1]])"
            ]
          },
          "execution_count": 52,
          "metadata": {},
          "output_type": "execute_result"
        }
      ],
      "source": [
        "M = np.array([\n",
        "    [18,57],\n",
        "    [-37, 85]\n",
        "])\n",
        "\n",
        "np.array(M @ np.linalg.inv(M), dtype=int)"
      ]
    },
    {
      "cell_type": "code",
      "execution_count": null,
      "metadata": {
        "colab": {
          "base_uri": "https://localhost:8080/"
        },
        "id": "gfRSk6EAUmwe",
        "outputId": "4b672b1a-25d5-4961-8682-f75c2bb894ed"
      },
      "outputs": [
        {
          "data": {
            "text/plain": [
              "array([[1, 0, 0, 0, 0, 0, 0],\n",
              "       [0, 1, 0, 0, 0, 0, 0],\n",
              "       [0, 0, 0, 0, 0, 0, 0],\n",
              "       [0, 0, 0, 1, 0, 0, 0],\n",
              "       [0, 0, 0, 0, 1, 0, 0],\n",
              "       [0, 0, 0, 0, 0, 0, 0],\n",
              "       [0, 0, 0, 0, 0, 0, 0]])"
            ]
          },
          "execution_count": 53,
          "metadata": {},
          "output_type": "execute_result"
        }
      ],
      "source": [
        "N = np.array([\n",
        "    [43,56,43,51,80,63,35],\n",
        "    [90,44,10,81,52,24,52],\n",
        "    [51,59,80,30,96,43,65],\n",
        "    [14,76,14,45,83,43,11],\n",
        "    [85,36,58,57,81,62,61],\n",
        "    [-53,15,12,50,64,62,30],\n",
        "    [-25,-35,21,62,51,40,61],\n",
        "])\n",
        "N_inv = np.linalg.inv(N)\n",
        "np.array(N @ N_inv,dtype=int)"
      ]
    },
    {
      "cell_type": "code",
      "execution_count": null,
      "metadata": {
        "colab": {
          "base_uri": "https://localhost:8080/"
        },
        "id": "1BBiitELUnWJ",
        "outputId": "fee9b451-03f1-40b0-c187-a26e3aa272bc"
      },
      "outputs": [
        {
          "data": {
            "text/plain": [
              "array([[6.12],\n",
              "       [3.04],\n",
              "       [4.64]])"
            ]
          },
          "execution_count": 54,
          "metadata": {},
          "output_type": "execute_result"
        }
      ],
      "source": [
        "squad = np.array([\n",
        "    [8.0, 0.3, 2.0],\n",
        "    [0.8, 0.4, 4.0],\n",
        "    [0.6, 0.2, 7.0]\n",
        "])\n",
        "weights = np.array([\n",
        "    [0.6, 0.4, 0.6]\n",
        "])\n",
        "p_grade = squad @ weights.T\n",
        "p_grade\n"
      ]
    },
    {
      "cell_type": "markdown",
      "metadata": {
        "id": "Gxm8uzP8U-YW"
      },
      "source": [
        "##Activity"
      ]
    },
    {
      "cell_type": "markdown",
      "metadata": {
        "id": "qRWOiD-YVAwE"
      },
      "source": [
        "###Task 1\n",
        "\n",
        "Prove and implement the remaining 6 matrix multiplication properties. You may create your own matrices in which their shapes should not be lower than $(3,3)$.\n",
        "In your methodology, create individual flowcharts for each property and discuss the property you would then present your proofs or validity of your implementation in the results section by comparing your result to present functions from NumPy."
      ]
    },
    {
      "cell_type": "code",
      "execution_count": null,
      "metadata": {
        "id": "ql9SvEvsVL68",
        "colab": {
          "base_uri": "https://localhost:8080/"
        },
        "outputId": "647e71fa-8dd9-4d16-e0ba-69938b2b8d03"
      },
      "outputs": [
        {
          "output_type": "execute_result",
          "data": {
            "text/plain": [
              "array([], dtype=float64)"
            ]
          },
          "metadata": {},
          "execution_count": 14
        }
      ],
      "source": [
        "np.array([])"
      ]
    },
    {
      "cell_type": "markdown",
      "source": [
        "## $A \\cdot B \\neq B \\cdot A$\n",
        " "
      ],
      "metadata": {
        "id": "6QgWEBylwAso"
      }
    },
    {
      "cell_type": "code",
      "execution_count": 21,
      "metadata": {
        "id": "jM1ldlM3VMEd",
        "colab": {
          "base_uri": "https://localhost:8080/"
        },
        "outputId": "67d6670c-f556-4daf-fa5e-fc9a81b84490"
      },
      "outputs": [
        {
          "output_type": "stream",
          "name": "stdout",
          "text": [
            "A.B IS\n",
            "[[4070, 5356, 1363], [9948, 13180, 4141], [9662, 12774, 4780]]\n",
            "B.A IS\n",
            "[[9096, 12722, 7057], [4295, 7016, 4148], [6490, 10120, 5918]]\n",
            "Therefore A.B is not equalt to B.A\n"
          ]
        }
      ],
      "source": [
        "A = np.array([\n",
        "        [13,62,2], \n",
        "        [45,54,61], \n",
        "        [76,58,19]\n",
        "        ])\n",
        "B = np.array([\n",
        "        [74,98,49], \n",
        "        [48,63,11],\n",
        "        [66,88,22]\n",
        "        ])\n",
        "  \n",
        "result = [[0 for x in range(3)] for y in range(3)]  \n",
        "  \n",
        " \n",
        "for i in range(len(B)): \n",
        "    for j in range(len(A[0])): \n",
        "        for k in range(len(A)): \n",
        "  \n",
        "\n",
        "            result[i][j] += A[i][k] * B[k][j] \n",
        "\n",
        "print('A.B IS')\n",
        "print(result)\n",
        "\n",
        "A = np.array([\n",
        "        [13,62,2], \n",
        "        [45,54,61], \n",
        "        [76,58,19]\n",
        "        ])\n",
        "B = np.array([\n",
        "        [74,98,49], \n",
        "        [48,63,11],\n",
        "        [66,88,22]\n",
        "        ])\n",
        "  \n",
        "result = [[0 for x in range(3)] for y in range(3)]  \n",
        "  \n",
        " \n",
        "for i in range(len(B)): \n",
        "    for j in range(len(A[0])): \n",
        "        for k in range(len(A)): \n",
        "  \n",
        "\n",
        "            result[i][j] += B[i][k] * A[k][j] \n",
        "  \n",
        "print('B.A IS')\n",
        "print(result)\n",
        "print('Therefore A.B is not equalt to B.A')"
      ]
    },
    {
      "cell_type": "markdown",
      "source": [
        "## $A \\cdot (B \\cdot C) = (A \\cdot B) \\cdot C$\n",
        " "
      ],
      "metadata": {
        "id": "FYSAti43wF2B"
      }
    },
    {
      "cell_type": "code",
      "source": [
        "A = np.array ([\n",
        "      [43, 76, 21],\n",
        "      [34, 56, 63],\n",
        "      [57, 28, 19]\n",
        "      ])\n",
        "B = np.array ([\n",
        "      [15, 32, 36],\n",
        "      [14, 85, 66],\n",
        "      [57, 38, 95]\n",
        "      ])\n",
        "C = np.array ([\n",
        "      [90, 27, 31],\n",
        "      [44, 52, 26],\n",
        "      [87, 68, 59]\n",
        "      ])\n",
        "\n",
        "\n",
        "result = np.dot(B,C)\n",
        "result = np.dot(A,result);\n",
        "print(\"A.(B.C) is\")\n",
        "for r in result:\n",
        " print(r)\n",
        "\n",
        "result = np.dot(A,B)\n",
        "result = np.dot(result,C);\n",
        "print(\"(A.B).C) is\")\n",
        "for r in result:\n",
        " print(r)\n"
      ],
      "metadata": {
        "colab": {
          "base_uri": "https://localhost:8080/"
        },
        "id": "XmvPInRjSQmr",
        "outputId": "30045653-83fe-4e62-ea58-d4e254f13295"
      },
      "execution_count": null,
      "outputs": [
        {
          "output_type": "stream",
          "name": "stdout",
          "text": [
            "A.(B.C) is\n",
            "[1386069 1109442  819551]\n",
            "[1751033 1302019 1009122]\n",
            "[922779 707002 536901]\n",
            "(A.B).C) is\n",
            "[1386069 1109442  819551]\n",
            "[1751033 1302019 1009122]\n",
            "[922779 707002 536901]\n"
          ]
        }
      ]
    },
    {
      "cell_type": "markdown",
      "source": [
        "## $A\\cdot(B+C) = A\\cdot B + A\\cdot C$\n",
        " "
      ],
      "metadata": {
        "id": "kI73CZACwKWj"
      }
    },
    {
      "cell_type": "code",
      "source": [
        "A = np.array ([\n",
        "      [76, 22, 53],\n",
        "      [21, 65, 36],\n",
        "      [75, 38, 29]\n",
        "      ])\n",
        "B = np.array ([\n",
        "      [15, 27, 43],\n",
        "      [44, 35, 86],\n",
        "      [72, 86, 39]\n",
        "      ])\n",
        "C = np.array ([\n",
        "      [19, 12, 63],\n",
        "      [84, 53, 65],\n",
        "      [75, 18, 49]\n",
        "      ])\n",
        "\n",
        "result = [[B[i][j] + C[i][j]  for j in range\n",
        "(len(B[0]))] for i in range(len(B))]\n",
        "result = np.dot(A,result)\n",
        "print(\"A.(B+C) is\")\n",
        "for r in result:\n",
        " print(r)\n",
        "result = np.dot(A,B)\n",
        "result1 = np.dot(A,C)\n",
        "result = [[result[i][j] + result1[i][j]  for j in range\n",
        "(len(result[0]))] for i in range(len(result))]\n",
        "print(\"A.B+A.C) is\")\n",
        "for r in result:\n",
        " print(r)"
      ],
      "metadata": {
        "colab": {
          "base_uri": "https://localhost:8080/"
        },
        "id": "6171dzVaSRMH",
        "outputId": "2cdeff1a-5517-4b59-9cab-d67a667f9af8"
      },
      "execution_count": null,
      "outputs": [
        {
          "output_type": "stream",
          "name": "stdout",
          "text": [
            "A.(B+C) is\n",
            "[13191 10412 16042]\n",
            "[14326 10283 15209]\n",
            "[11677  9285 16240]\n",
            "A.B+A.C) is\n",
            "[13191, 10412, 16042]\n",
            "[14326, 10283, 15209]\n",
            "[11677, 9285, 16240]\n"
          ]
        }
      ]
    },
    {
      "cell_type": "markdown",
      "source": [
        "## $(B+C)\\cdot A = B\\cdot A + C\\cdot A$\n",
        " "
      ],
      "metadata": {
        "id": "O8fe7IfTwVBg"
      }
    },
    {
      "cell_type": "code",
      "source": [
        "A = np.array ([\n",
        "      [14, 86, 54],\n",
        "      [45, 65, 45],\n",
        "      [24, 18, 39]\n",
        "      ])\n",
        "B = np.array ([\n",
        "      [13, 12, 53],\n",
        "      [47, 75, 36],\n",
        "      [76, 48, 39]\n",
        "      ])\n",
        "C = np.array ([\n",
        "      [14, 32, 83],\n",
        "      [94, 55, 66],\n",
        "      [97, 48, 39]\n",
        "      ])\n",
        "\n",
        "result = [[B[i][j] + C[i][j]  for j in range\n",
        "(len(B[0]))] for i in range(len(B))]\n",
        "result = np.dot(result,A)\n",
        "print(\"A.(B+C) is\")\n",
        "for r in result:\n",
        " print(r)\n",
        "result = np.dot(B,A)\n",
        "result1 = np.dot(C,A)\n",
        "result = [[result[i][j] + result1[i][j]  for j in range\n",
        "(len(result[0]))] for i in range(len(result))]\n",
        "print(\"(A.B)+(A.C) is\")\n",
        "for r in result:\n",
        " print(r)"
      ],
      "metadata": {
        "colab": {
          "base_uri": "https://localhost:8080/"
        },
        "id": "2uygPWZkSXLj",
        "outputId": "bb931586-6927-4b61-8e0a-0ab6b97e4e5a"
      },
      "execution_count": null,
      "outputs": [
        {
          "output_type": "stream",
          "name": "stdout",
          "text": [
            "A.(B+C) is\n",
            "[5622 7630 8742]\n",
            "[10272 22412 17442]\n",
            "[ 8614 22522 16704]\n",
            "(A.B)+(A.C) is\n",
            "[5622, 7630, 8742]\n",
            "[10272, 22412, 17442]\n",
            "[8614, 22522, 16704]\n"
          ]
        }
      ]
    },
    {
      "cell_type": "markdown",
      "source": [
        "## $A\\cdot I = A$"
      ],
      "metadata": {
        "id": "uCG3FY40wYTq"
      }
    },
    {
      "cell_type": "code",
      "source": [
        "A = np.array([\n",
        "        [62, 74, 23], \n",
        "        [14 ,45, 46], \n",
        "        [37 ,48, 19]\n",
        "        ])\n",
        "B = np.array([\n",
        "        [1,0,0], \n",
        "        [0,1,0],\n",
        "        [0,0,1]\n",
        "        ])\n",
        "  \n",
        "result = [[0 for x in range(3)] for y in range(3)]  \n",
        "  \n",
        " \n",
        "for i in range(len(B)): \n",
        "    for j in range(len(A[0])): \n",
        "        for k in range(len(A)): \n",
        "  \n",
        "\n",
        "            result[i][j] += B[i][k] * A[k][j] \n",
        "  \n",
        "print (result)"
      ],
      "metadata": {
        "colab": {
          "base_uri": "https://localhost:8080/"
        },
        "id": "3sKX5lkuSbW4",
        "outputId": "b2d7aed4-eee7-4145-e2aa-b1dbe7138551"
      },
      "execution_count": null,
      "outputs": [
        {
          "output_type": "stream",
          "name": "stdout",
          "text": [
            "[[62, 74, 23], [14, 45, 46], [37, 48, 19]]\n"
          ]
        }
      ]
    },
    {
      "cell_type": "markdown",
      "source": [
        "## $A\\cdot \\emptyset = \\emptyset$ "
      ],
      "metadata": {
        "id": "fusMzf4owghN"
      }
    },
    {
      "cell_type": "code",
      "source": [
        "A = np.array([\n",
        "        [34,27,53], \n",
        "        [64 ,35,56], \n",
        "        [87 ,38,29]\n",
        "        ])\n",
        "B = np.array([\n",
        "        [0,0,0], \n",
        "        [0,0,0],\n",
        "        [0,0,0]\n",
        "        ])\n",
        "  \n",
        "result = [[0 for x in range(3)] for y in range(3)]  \n",
        "  \n",
        " \n",
        "for i in range(len(B)): \n",
        "    for j in range(len(A[0])): \n",
        "        for k in range(len(A)): \n",
        "  \n",
        "\n",
        "            result[i][j] += B[i][k] * A[k][j] \n",
        "  \n",
        "print (result)"
      ],
      "metadata": {
        "colab": {
          "base_uri": "https://localhost:8080/"
        },
        "id": "V4PYV4jgSelK",
        "outputId": "9a774012-a3dc-45d6-c006-e4696317bec1"
      },
      "execution_count": null,
      "outputs": [
        {
          "output_type": "stream",
          "name": "stdout",
          "text": [
            "[[0, 0, 0], [0, 0, 0], [0, 0, 0]]\n"
          ]
        }
      ]
    },
    {
      "cell_type": "markdown",
      "metadata": {
        "id": "L1tw93BgVOc6"
      },
      "source": [
        "##Conclusion"
      ]
    },
    {
      "cell_type": "markdown",
      "metadata": {
        "id": "kMlZm-U6VRYg"
      },
      "source": [
        "For your conclusion synthesize the concept and application of the laboratory. Briefly discuss what you have learned and achieved in this activity. Also answer the question: \"how can matrix operations solve problems in healthcare?\". "
      ]
    },
    {
      "cell_type": "markdown",
      "source": [
        "Python is a well-known and popular programming language that is in great demand throughout the globe. It is applicable to a variety of fields, including data science, big data, programming, and application development. The students were able to practice and comprehend the concepts, syntax, and techniques of Python by completing this laboratory report. It entails familiarity with matrices and their relationship to linear equations, the ability to perform fundamental matrix operations, and the ability to program/translate matrix equations and operations. Learning the fundamentals undoubtedly aided in the acquisition of a load of new and useful characteristics. It will assist you in thinking more logically. You will be able to grasp complex ideas more easily and solve problems more effectively as a result of this course. \n",
        "\n",
        "At the end of the module, the students became capable of applying the knowledge about the language by involving themselves in doing several practices such as creating a corresponding matrix representing a linear combination, encoding and describing it as a matrix, expressing it as a linear combination, and Matrix Operations which includes Transposition, Dot Product/Inner Product and it’s rules, Determinant, and Inverse.  On the other hand, a task was performed. The program begins by being familiar with transposition, dot product, determinant and inverse. This familiarization aids us in putting our newfound knowledge into practice by allowing us to construct matrices that deal with multiplication properties. Moreover, a flow chart was created in relation to the tasks that discussed the methods and functions used. Furthermore, learning the fundamentals of programming helps develop mental abilities that are extremely useful in a variety of other areas of life. This engagement could assist people to make key patient care decisions and help us make huge changes. We'd look at the matrices first, then learn about each quality outcome and how competencies, abilities, and other aspects affect it. This setting would assist users to make vital patient care decisions. These matrices would also be useful for health care training, allowing us to broaden the scope of research and benefit the health care system. The ability to deconstruct a large problem into a series of increasingly small tasks, to abstract a solution in order to make it applicable to a larger set of problems, and even to develop fluency in logical analysis through debugging are all developmental skills that aid in decision making and critical thinking, which are necessary for solving healthcare problems.\n"
      ],
      "metadata": {
        "id": "bg1QfE7jBXFZ"
      }
    }
  ],
  "metadata": {
    "colab": {
      "collapsed_sections": [],
      "name": "ASSIGNMENT 6.ipynb",
      "provenance": [],
      "authorship_tag": "ABX9TyP9l99gVMb3ROZvgpEyRhhO",
      "include_colab_link": true
    },
    "kernelspec": {
      "display_name": "Python 3",
      "name": "python3"
    },
    "language_info": {
      "name": "python"
    }
  },
  "nbformat": 4,
  "nbformat_minor": 0
}