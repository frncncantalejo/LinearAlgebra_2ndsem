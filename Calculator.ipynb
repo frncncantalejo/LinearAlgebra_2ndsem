{
  "nbformat": 4,
  "nbformat_minor": 0,
  "metadata": {
    "colab": {
      "name": "Calculator.ipynb",
      "provenance": [],
      "collapsed_sections": [],
      "authorship_tag": "ABX9TyMbYJXdwKAric2Y1ZkB4O9z",
      "include_colab_link": true
    },
    "kernelspec": {
      "name": "python3",
      "display_name": "Python 3"
    },
    "language_info": {
      "name": "python"
    }
  },
  "cells": [
    {
      "cell_type": "markdown",
      "metadata": {
        "id": "view-in-github",
        "colab_type": "text"
      },
      "source": [
        "<a href=\"https://colab.research.google.com/github/frncncantalejo/LinearAlgebra_2ndsem/blob/main/Calculator.ipynb\" target=\"_parent\"><img src=\"https://colab.research.google.com/assets/colab-badge.svg\" alt=\"Open In Colab\"/></a>"
      ]
    },
    {
      "cell_type": "code",
      "execution_count": 19,
      "metadata": {
        "id": "FoCwhuJuZZEI",
        "colab": {
          "base_uri": "https://localhost:8080/"
        },
        "outputId": "b560c075-57fb-47c8-8bbd-ab6633f187a2"
      },
      "outputs": [
        {
          "output_type": "stream",
          "name": "stdout",
          "text": [
            "Name of the Student: francine\n",
            "Student's course: linear algeb\n",
            "Enter prelim grade: 98\n",
            "Enter midterm grade: 97\n",
            "Enter finals grade: 93\n",
            "Hello francine, your semestral grade is: 95.70\n",
            "Congratulations!! 😀\n"
          ]
        }
      ],
      "source": [
        "name =  input(\"Name of the Student: \")\n",
        "course = input(\"Student's course: \")\n",
        "\n",
        "pg = float (input(\"Enter prelim grade: \"))\n",
        "mg = float (input(\"Enter midterm grade: \"))\n",
        "fg = float (input(\"Enter finals grade: \"))\n",
        "\n",
        "sem_grade = float ((pg*0.3)+(mg*0.3)+(fg*0.4))\n",
        "\n",
        "print(\"Hello {}, your semestral grade is: {:.2f}\" .format(name, sem_grade))\n",
        "\n",
        "if(sem_grade == 70.00):\n",
        "  print(\"You did well this semester!! \\U0001F606\")\n",
        "elif(sem_grade > 70.00):\n",
        "  print(\"Congratulations!! \\U0001f600\")\n",
        "else:\n",
        "  print(\"Better luck next time :(( \\U0001F62D\")"
      ]
    }
  ]
}